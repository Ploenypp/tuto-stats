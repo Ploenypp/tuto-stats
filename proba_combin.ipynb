{
 "cells": [
  {
   "cell_type": "markdown",
   "metadata": {},
   "source": [
    "# Probability & Combinatorics"
   ]
  },
  {
   "cell_type": "code",
   "execution_count": 40,
   "metadata": {},
   "outputs": [],
   "source": [
    "# import libraries\n",
    "from math import *\n",
    "import pandas as pd\n",
    "import numpy as np\n",
    "import matplotlib.pyplot as plt"
   ]
  },
  {
   "cell_type": "code",
   "execution_count": 2,
   "metadata": {},
   "outputs": [],
   "source": [
    "# import functions\n",
    "from proba_combin import *"
   ]
  },
  {
   "cell_type": "markdown",
   "metadata": {},
   "source": [
    "***\n",
    "## Permutations & Combinations"
   ]
  },
  {
   "cell_type": "markdown",
   "metadata": {},
   "source": [
    "### `Without` replacement"
   ]
  },
  {
   "cell_type": "markdown",
   "metadata": {},
   "source": [
    "$P^n_r = \\frac{n!}{(n-r)!} $\n",
    "\n",
    "$C^n_r = \\frac{n!}{r!(n-r)!}$\n",
    "\n",
    "$n$ : total, $r$ : selected"
   ]
  },
  {
   "cell_type": "markdown",
   "metadata": {},
   "source": [
    "Notice how the permutation and combination formula differ by $\\frac{1}{r!}$. This is because, `in a combination, the selection isn't ordered` so we must divide by the number of ways the elements can be ordered in, which is $r!$"
   ]
  },
  {
   "cell_type": "markdown",
   "metadata": {},
   "source": [
    "<i>Example</i>\n",
    "\n",
    "Say we have 3 letters (A, B, C) and we want to create words of length 3.\n",
    "\n",
    "A permutation would give us ABC, ACB, BAC, BCA, CAB, and CBA, 6 words.\n",
    "\n",
    "In a combination, all of these words are considered the same. Notice how the number of words given in this example permutation is equal to $r!$, which is $3! == 6$ in this case."
   ]
  },
  {
   "cell_type": "markdown",
   "metadata": {},
   "source": [
    "***\n",
    "### `With` replacement"
   ]
  },
  {
   "cell_type": "markdown",
   "metadata": {},
   "source": [
    "$P^n_r = n^r$\n",
    "\n",
    "$C^n_r = \\frac{(n-1+r)!}{r!(n-1)!}$\n",
    "\n",
    "$n$ : total, $r$ : selected"
   ]
  },
  {
   "cell_type": "markdown",
   "metadata": {},
   "source": [
    "For this combinaton formula, $ n - 1 $ counts the the number of separations between the elements to be selected. $ r $ is the number of places to fill. \n",
    "\n",
    "Because repeats are allowed, there are $ n - 1 + r $ choices. The $ ! $ counts the number of all arrangements of those choices.\n",
    "\n",
    "But since this is a combination, the order doens't matter. \n",
    "$ \\frac{1}{r!} $ is to remove the arrangements of identical elements.\n",
    "$ \\frac{1}{(n-1)!} $ is to remove the arrangements of separations."
   ]
  },
  {
   "cell_type": "markdown",
   "metadata": {},
   "source": [
    "***\n",
    "## Discrete Random Variables"
   ]
  },
  {
   "cell_type": "markdown",
   "metadata": {},
   "source": [
    "$P(E) = \\frac{|E|}{\\Omega}$\n",
    "\n",
    "$E$ : event of interest, $\\Omega$ : all outcomes\n",
    "\n",
    "In terms of a random variable $X$, this would be written as $P(X = value)$ This reads as, the probability that $X$ is equal to $value$. In other words, $E : X = value$.\n",
    "\n",
    "Note : the value of $X$ is not to be calculated. The calculation is the probability of $X$ being a given value."
   ]
  },
  {
   "cell_type": "markdown",
   "metadata": {},
   "source": [
    "### Expectation / Espérance"
   ]
  },
  {
   "cell_type": "markdown",
   "metadata": {},
   "source": [
    "expectation : mean of the random variable / weighted sum of the outcomes\n",
    "\n",
    "$ E(X) = \\mu = \\sum_x {xP(X=x)} $\n"
   ]
  },
  {
   "cell_type": "markdown",
   "metadata": {},
   "source": [
    "### Variance and Standard Deviation"
   ]
  },
  {
   "cell_type": "markdown",
   "metadata": {},
   "source": [
    "$Var(X) = \\sum_x{[P(X=x)(x-\\mu)^2]}$\n",
    "\n",
    "$\\sigma = \\sqrt{Var(X)}$"
   ]
  },
  {
   "cell_type": "markdown",
   "metadata": {},
   "source": [
    "### Manipulating Multiple Discrete Random Variables"
   ]
  },
  {
   "cell_type": "markdown",
   "metadata": {},
   "source": [
    "$E(X \\pm Y) = E(X) \\pm E(Y)$ \n",
    "\n",
    "If $X$ and $Y$ are independent : \n",
    "\n",
    "$Var(X \\pm Y) = Var(X) + Var(Y)$"
   ]
  },
  {
   "cell_type": "markdown",
   "metadata": {},
   "source": [
    "### Covariance"
   ]
  },
  {
   "cell_type": "markdown",
   "metadata": {},
   "source": [
    "If $X$ and $Y$ are `not` independent but follow a `normal` distribution :\n",
    "\n",
    "$Var(X \\pm Y) = Var(X) + Var(Y) + 2Cov(X,Y)$"
   ]
  },
  {
   "cell_type": "markdown",
   "metadata": {},
   "source": [
    "covariance : measure of how much 2 random variables change together\n",
    "\n",
    "$Cov(X,Y) = E[(X-E(X))(Y-E(Y))]$\n",
    "\n",
    "$ = \\sum_x{\\sum_y{[(x-E(X))(y-E(Y)) \\times P(X=x, Y=y) ]}} $\n",
    "\n",
    "| value of $Cov(X,Y)$ | significance | \n",
    "| :-: | :-: |\n",
    "| $ > 0 $ | $ X > \\mu_x \\rightarrow Y > \\mu_y $ |\n",
    "| $ < 0 $ | $ X < \\mu_x \\rightarrow Y < \\mu_y $ |\n",
    "| $ = 0 $ | uncorrelated, though not necessarily independent |"
   ]
  },
  {
   "cell_type": "markdown",
   "metadata": {},
   "source": [
    "***\n",
    "## Probability Distributions"
   ]
  },
  {
   "cell_type": "markdown",
   "metadata": {},
   "source": [
    "### Bernoulli Distribution"
   ]
  },
  {
   "cell_type": "markdown",
   "metadata": {},
   "source": [
    "A Bernoulli distribution is a `single trial` with 2 outcomes (success / failure) and 1 parameter.\n",
    "\n",
    "$P(X=1) = p$\n",
    "\n",
    "$P(X=0) = 1-p$"
   ]
  },
  {
   "cell_type": "markdown",
   "metadata": {},
   "source": [
    "***\n",
    "### Binomial"
   ]
  },
  {
   "cell_type": "markdown",
   "metadata": {},
   "source": [
    "#### Definition"
   ]
  },
  {
   "cell_type": "markdown",
   "metadata": {},
   "source": [
    "A Binomial distribution is based on a `series of independent Bernoulli trials` and counts the number of successes in $n$ trials.\n",
    "\n",
    "##### Characteristics of binomial variables  \n",
    "- 2 outcomes : success / failure\n",
    "- fixed number of independent trials\n",
    "- constant probability of success for each trial"
   ]
  },
  {
   "cell_type": "markdown",
   "metadata": {},
   "source": [
    "#### 10% Rule of assuming \"independence\" between trials "
   ]
  },
  {
   "cell_type": "markdown",
   "metadata": {},
   "source": [
    "sample $\\leq$ 10% of population $\\rightarrow$ can assume independence\n",
    "\n",
    "$P(X=k) = (n,k) = p^k(1-p)^{n-k}$\n",
    "\n",
    "$p$ probability of success, $k$ number of successes, $n$ total number of trials\n",
    "\n",
    "The result is a decimal that when multiplied by 100 will give the percentage probability."
   ]
  },
  {
   "cell_type": "markdown",
   "metadata": {},
   "source": [
    "#### Visualisation of a Binomial Distribution example"
   ]
  },
  {
   "cell_type": "markdown",
   "metadata": {},
   "source": [
    "<i>Example</i>\n",
    "\n",
    "A product has a 3% probability of bein defective. 1 batch contains 100 products. Calculate the probability that exactly 5 products are defective."
   ]
  },
  {
   "cell_type": "code",
   "execution_count": 108,
   "metadata": {},
   "outputs": [
    {
     "name": "stdout",
     "output_type": "stream",
     "text": [
      "p = 0.03, n = 100, k = 5\n",
      "\n",
      "probability of 5 products being defective\n",
      "P(X = 5) = 1.346e-07%\n"
     ]
    }
   ],
   "source": [
    "p = 0.03; n = 100; k = 5\n",
    "\n",
    "print(f'p = {p}, n = {n}, k = {k}\\n')\n",
    "print(\"probability of 5 products being defective\")\n",
    "print(f'P(X = {k}) = {round(binomial(p,n,k),12)*100}%')"
   ]
  },
  {
   "cell_type": "code",
   "execution_count": 114,
   "metadata": {},
   "outputs": [
    {
     "data": {
      "image/png": "[encoded data removed]",
      "text/plain": [
       "<Figure size 640x480 with 1 Axes>"
      ]
     },
     "metadata": {},
     "output_type": "display_data"
    }
   ],
   "source": [
    "bin_idx = list(range(0,n))\n",
    "binomial_proba = [binomial(p, n, i)*100 for i in bin_idx]\n",
    "plt.bar(bin_idx[1:],binomial_proba[1:], alpha=0.5, color=\"blue\", edgecolor=\"black\")\n",
    "plt.xlabel(\"number of defective products\")\n",
    "plt.ylabel(\"Probability P(X = k)\")\n",
    "plt.title(\"Binomial Distribution: n = 100, p = 0.03\")\n",
    "plt.grid(axis='y', linestyle='--', alpha=0.7)\n",
    "plt.show()"
   ]
  },
  {
   "cell_type": "markdown",
   "metadata": {},
   "source": [
    "How about we plot the distribution of the probability of finding exactly 5 defective products in batches of varying size?"
   ]
  },
  {
   "cell_type": "code",
   "execution_count": 115,
   "metadata": {},
   "outputs": [
    {
     "data": {
      "image/png": "[encoded data removed]",
      "text/plain": [
       "<Figure size 640x480 with 1 Axes>"
      ]
     },
     "metadata": {},
     "output_type": "display_data"
    }
   ],
   "source": [
    "bin_idx = list(range(5,100))\n",
    "binomial_proba = [binomial(p,i,k)*100 for i in bin_idx]\n",
    "plt.bar(bin_idx[1:],binomial_proba[1:], alpha=0.5, color=\"blue\", edgecolor=\"black\")\n",
    "plt.xlabel(\"batch sizes\")\n",
    "plt.ylabel(\"Probability P(X = k)\")\n",
    "plt.title(\"Binomial Distribution: k = 5, p = 0.03\")\n",
    "plt.grid(axis='y', linestyle='--', alpha=0.7)\n",
    "plt.show()"
   ]
  },
  {
   "cell_type": "markdown",
   "metadata": {},
   "source": [
    "***\n",
    "### Poisson"
   ]
  },
  {
   "cell_type": "markdown",
   "metadata": {},
   "source": [
    "#### Definition"
   ]
  },
  {
   "cell_type": "markdown",
   "metadata": {},
   "source": [
    "The Poisson distribution calculates the likelihood of a certain `number of events that occur independently of one another and at a constant rate`.\n",
    "\n",
    "$P(X=k)=e^{-\\lambda}\\frac{\\lambda^{k}}{k!}$\n",
    "\n",
    "$\\lambda$ : the rate at which the events occur\n",
    "\n",
    "$k$ : the number of events that occur within the time interval implicitly defined in $\\lambda$\n",
    "\n",
    "##### Characteristics of Poisson variables \n",
    "- all events independant of one another \n",
    "- constant occurrence rate over given interval\n",
    "- non-negative number of events"
   ]
  },
  {
   "cell_type": "markdown",
   "metadata": {},
   "source": [
    "#### Visualisation of a Poisson Distribution example"
   ]
  },
  {
   "cell_type": "markdown",
   "metadata": {},
   "source": []
  },
  {
   "cell_type": "markdown",
   "metadata": {},
   "source": [
    "***\n",
    "### Geometric"
   ]
  },
  {
   "cell_type": "markdown",
   "metadata": {},
   "source": [
    "#### Definition"
   ]
  },
  {
   "cell_type": "markdown",
   "metadata": {},
   "source": [
    "The Geometric distribution calculates the `number of trials that occur before the first success`. \n",
    "\n",
    "$P(X=x) = (1 - p)^{x-1}p$\n",
    "\n",
    "##### Characterstics of Geometric variables\n",
    "- identically Bernoulli trials\n",
    "    - 2 outcomes : success / failure\n",
    "    - constant probability of success\n",
    "- independent"
   ]
  },
  {
   "cell_type": "markdown",
   "metadata": {},
   "source": [
    "#### Visualisation of a Geometric Distribution example"
   ]
  },
  {
   "cell_type": "code",
   "execution_count": null,
   "metadata": {},
   "outputs": [],
   "source": []
  },
  {
   "cell_type": "markdown",
   "metadata": {},
   "source": [
    "***\n",
    "### Normal"
   ]
  },
  {
   "cell_type": "markdown",
   "metadata": {},
   "source": [
    "#### Definition"
   ]
  },
  {
   "cell_type": "markdown",
   "metadata": {},
   "source": [
    "The Normal (or Gaussian) distribution is a distribution that is symmetric around the mean and appears as a \"bell curve.\" The mean is 0 and the standard deviation is 1.\n",
    "\n",
    "$f(x) = \\frac{1}{\\sigma\\sqrt{2\\pi}}e^{-\\frac{1}{2}(\\frac{x-\\mu}{\\sigma})^{2}}$\n",
    "\n",
    "$\\mu$ : mean, $\\sigma$ : standard deviation\n",
    "\n",
    "The distribution's width is defined by the standard deviation, where it acts as the unit of measure as illustrated by the Empirical Rule."
   ]
  },
  {
   "cell_type": "markdown",
   "metadata": {},
   "source": [
    "#### Empirical Rule "
   ]
  },
  {
   "cell_type": "markdown",
   "metadata": {},
   "source": [
    "![empirical rule image](assets/empiricalrule.png)"
   ]
  },
  {
   "cell_type": "markdown",
   "metadata": {},
   "source": [
    "68-95-99.7 rule \n",
    "| % data points | distance from mean (standard deviations) |\n",
    "| :-: | :-: |\n",
    "| 68% | 1 |\n",
    "| 95% | 2 |\n",
    "| 99.7 | 3 |"
   ]
  },
  {
   "cell_type": "markdown",
   "metadata": {},
   "source": [
    "#### Central Limit Theorem"
   ]
  },
  {
   "cell_type": "markdown",
   "metadata": {},
   "source": [
    "Averages calculated from independent, identically distributed random variables have approximately normal distributions, regardless of the type of distribution from which the variables are sampled. (Normal Distribution, Investopedia)\n",
    "\n",
    "As the sample size increases and its variance is finite, then the distribution of the sample mean approaches normal distribution irrespective of the shape of the population distribution. \n",
    "\n",
    "The distribution of sample means will invariably conform to a normal distribution provided the sample size is sufficiently large regardless of whether the underlying distribution of the population is Normal, Poisson, Binomial, or an alternative distribution. (Geeks for Geeks)\n",
    "\n",
    "- The distribution of sample means approximates a normal distribution as the sample size gets larger, regardless of the population's distribution.\n",
    "- A sufficiently large sample size can predict the characteristics of a population more accurately.\n",
    "- Sample sizes $\\geq 30$ are often considered sufficient for the CLT to hold.\n",
    "- The average of the sample means and standard deviations will equal the population mean and standard deviation.\n",
    "(Central Limit Theorem, Investopedia)"
   ]
  },
  {
   "cell_type": "markdown",
   "metadata": {},
   "source": [
    "***\n",
    "## Random Variables"
   ]
  },
  {
   "cell_type": "markdown",
   "metadata": {},
   "source": [
    "### Expectation"
   ]
  },
  {
   "cell_type": "markdown",
   "metadata": {},
   "source": [
    "### Variance"
   ]
  },
  {
   "cell_type": "markdown",
   "metadata": {},
   "source": [
    "***\n",
    "## Law of Large Numbers"
   ]
  },
  {
   "cell_type": "markdown",
   "metadata": {},
   "source": [
    "***\n",
    "## Central Limit Theorem"
   ]
  },
  {
   "cell_type": "markdown",
   "metadata": {},
   "source": [
    "***\n",
    "# Sources"
   ]
  },
  {
   "cell_type": "markdown",
   "metadata": {},
   "source": [
    "Khan Academy, ChatGPT\n",
    "\n",
    "Geeks for Geeks\n",
    "- https://www.geeksforgeeks.org/poisson-distribution/\n",
    "- https://www.geeksforgeeks.org/geometric-distribution/\n",
    "- https://www.geeksforgeeks.org/central-limit-theorem/\n",
    "\n",
    "Investopedia\n",
    "- https://www.investopedia.com/terms/n/normaldistribution.asp#:~:text=The%20Bottom%20Line-,Normal%20distribution%2C%20also%20known%20as%20the%20Gaussian%20distribution%2C%20is%20a,defined%20by%20the%20standard%20deviation.\n",
    "- https://www.investopedia.com/terms/c/central_limit_theorem.asp\n"
   ]
  },
  {
   "cell_type": "markdown",
   "metadata": {},
   "source": []
  }
 ],
 "metadata": {
  "kernelspec": {
   "display_name": ".venv",
   "language": "python",
   "name": "python3"
  },
  "language_info": {
   "codemirror_mode": {
    "name": "ipython",
    "version": 3
   },
   "file_extension": ".py",
   "mimetype": "text/x-python",
   "name": "python",
   "nbconvert_exporter": "python",
   "pygments_lexer": "ipython3",
   "version": "3.12.4"
  },
  "orig_nbformat": 4
 },
 "nbformat": 4,
 "nbformat_minor": 2
}
