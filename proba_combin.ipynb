{
 "cells": [
  {
   "cell_type": "markdown",
   "metadata": {},
   "source": [
    "# Probability & Combinatorics"
   ]
  },
  {
   "cell_type": "code",
   "execution_count": 1,
   "metadata": {},
   "outputs": [],
   "source": [
    "# import libraries\n",
    "from math import *"
   ]
  },
  {
   "cell_type": "code",
   "execution_count": 2,
   "metadata": {},
   "outputs": [],
   "source": [
    "# import functions\n",
    "from proba_combin import *"
   ]
  },
  {
   "cell_type": "markdown",
   "metadata": {},
   "source": [
    "***\n",
    "## Permutations & Combinations"
   ]
  },
  {
   "cell_type": "markdown",
   "metadata": {},
   "source": [
    "### `Without` replacement"
   ]
  },
  {
   "cell_type": "markdown",
   "metadata": {},
   "source": [
    "$P^n_r = \\frac{n!}{(n-r)!} $\n",
    "\n",
    "$C^n_r = \\frac{n!}{r!(n-r)!}$\n",
    "\n",
    "$n$ : total, $r$ : selected"
   ]
  },
  {
   "cell_type": "markdown",
   "metadata": {},
   "source": [
    "Notice how the permutation and combination formula differ by $\\frac{1}{r!}$. This is because, `in a combination, the selection isn't ordered` so we must divide by the number of ways the elements can be ordered in, which is $r!$"
   ]
  },
  {
   "cell_type": "markdown",
   "metadata": {},
   "source": [
    "<i>Example</i>\n",
    "\n",
    "Say we have 3 letters (A, B, C) and we want to create words of length 3.\n",
    "\n",
    "A permutation would give us ABC, ACB, BAC, BCA, CAB, and CBA, 6 words.\n",
    "\n",
    "In a combination, all of these words are considered the same. Notice how the number of words given in this example permutation is equal to $r!$, which is $3! == 6$ in this case."
   ]
  },
  {
   "cell_type": "markdown",
   "metadata": {},
   "source": [
    "***\n",
    "### `With` replacement"
   ]
  },
  {
   "cell_type": "markdown",
   "metadata": {},
   "source": [
    "$P^n_r = n^r$\n",
    "\n",
    "$C^n_r = \\frac{(n-1+r)!}{r!(n-1)!}$\n",
    "\n",
    "$n$ : total, $r$ : selected"
   ]
  },
  {
   "cell_type": "markdown",
   "metadata": {},
   "source": [
    "For this combinaton formula, $ n - 1 $ counts the the number of separations between the elements to be selected. $ r $ is the number of places to fill. \n",
    "\n",
    "Because repeats are allowed, there are $ n - 1 + r $ choices. The $ ! $ counts the number of all arrangements of those choices.\n",
    "\n",
    "But since this is a combination, the order doens't matter. \n",
    "$ \\frac{1}{r!} $ is to remove the arrangements of identical elements.\n",
    "$ \\frac{1}{(n-1)!} $ is to remove the arrangements of separations."
   ]
  },
  {
   "cell_type": "markdown",
   "metadata": {},
   "source": [
    "***\n",
    "## Discrete Random Variables"
   ]
  },
  {
   "cell_type": "markdown",
   "metadata": {},
   "source": [
    "$P(E) = \\frac{|E|}{\\Omega}$\n",
    "\n",
    "$E$ : event of interest, $\\Omega$ : all outcomes\n",
    "\n",
    "In terms of a random variable $X$, this would be written as $P(X = value)$ This reads as, the probability that $X$ is equal to $value$. In other words, $E : X = value$.\n",
    "\n",
    "Note : the value of $X$ is not to be calculated. The calculation is the probability of $X$ being a given value."
   ]
  },
  {
   "cell_type": "markdown",
   "metadata": {},
   "source": [
    "### Expectation / Espérance"
   ]
  },
  {
   "cell_type": "markdown",
   "metadata": {},
   "source": [
    "expectation : mean of the random variable / weighted sum of the outcomes\n",
    "\n",
    "$ E(X) = \\mu = \\sum_x {xP(X=x)} $\n"
   ]
  },
  {
   "cell_type": "markdown",
   "metadata": {},
   "source": [
    "### Variance and Standard Deviation"
   ]
  },
  {
   "cell_type": "markdown",
   "metadata": {},
   "source": [
    "$Var(X) = \\sum_x{[P(X=x)(x-\\mu)^2]}$\n",
    "\n",
    "$\\sigma = \\sqrt{Var(X)}$"
   ]
  },
  {
   "cell_type": "markdown",
   "metadata": {},
   "source": [
    "### Manipulating Multiple Discrete Random Variables"
   ]
  },
  {
   "cell_type": "markdown",
   "metadata": {},
   "source": [
    "$E(X \\pm Y) = E(X) \\pm E(Y)$ \n",
    "\n",
    "If $X$ and $Y$ are independent : \n",
    "\n",
    "$Var(X \\pm Y) = Var(X) + Var(Y)$"
   ]
  },
  {
   "cell_type": "markdown",
   "metadata": {},
   "source": [
    "### Covariance"
   ]
  },
  {
   "cell_type": "markdown",
   "metadata": {},
   "source": [
    "If $X$ and $Y$ are `not` independent but follow a `normal` distribution :\n",
    "\n",
    "$Var(X \\pm Y) = Var(X) + Var(Y) + 2Cov(X,Y)$"
   ]
  },
  {
   "cell_type": "markdown",
   "metadata": {},
   "source": [
    "covariance : measure of how much 2 random variables change together\n",
    "\n",
    "$Cov(X,Y) = E[(X-E(X))(Y-E(Y))]$\n",
    "\n",
    "$ = \\sum_x{\\sum_y{[(x-E(X))(y-E(Y)) \\times P(X=x, Y=y) ]}} $\n",
    "\n",
    "| value of $Cov(X,Y)$ | significance | \n",
    "| :-: | :-: |\n",
    "| $ > 0 $ | $ X > \\mu_x \\rightarrow Y > \\mu_y $ |\n",
    "| $ < 0 $ | $ X < \\mu_x \\rightarrow Y < \\mu_y $ |\n",
    "| $ = 0 $ | uncorrelated, though not necessarily independent |"
   ]
  },
  {
   "cell_type": "markdown",
   "metadata": {},
   "source": [
    "***\n",
    "## Probability Distributions"
   ]
  },
  {
   "cell_type": "markdown",
   "metadata": {},
   "source": [
    "### Binomial"
   ]
  },
  {
   "cell_type": "markdown",
   "metadata": {},
   "source": [
    "### Bernoulli"
   ]
  },
  {
   "cell_type": "markdown",
   "metadata": {},
   "source": [
    "### Poisson"
   ]
  },
  {
   "cell_type": "markdown",
   "metadata": {},
   "source": [
    "### Geometric"
   ]
  },
  {
   "cell_type": "markdown",
   "metadata": {},
   "source": [
    "### Normal"
   ]
  },
  {
   "cell_type": "markdown",
   "metadata": {},
   "source": [
    "***\n",
    "## Random Variables"
   ]
  },
  {
   "cell_type": "markdown",
   "metadata": {},
   "source": [
    "### Expectation"
   ]
  },
  {
   "cell_type": "markdown",
   "metadata": {},
   "source": [
    "### Variance"
   ]
  },
  {
   "cell_type": "markdown",
   "metadata": {},
   "source": [
    "***\n",
    "## Law of Large Numbers"
   ]
  },
  {
   "cell_type": "markdown",
   "metadata": {},
   "source": [
    "***\n",
    "## Central Limit Theorem"
   ]
  },
  {
   "cell_type": "markdown",
   "metadata": {},
   "source": [
    "***\n",
    "# Sources"
   ]
  }
 ],
 "metadata": {
  "kernelspec": {
   "display_name": ".venv",
   "language": "python",
   "name": "python3"
  },
  "language_info": {
   "codemirror_mode": {
    "name": "ipython",
    "version": 3
   },
   "file_extension": ".py",
   "mimetype": "text/x-python",
   "name": "python",
   "nbconvert_exporter": "python",
   "pygments_lexer": "ipython3",
   "version": "3.12.4"
  },
  "orig_nbformat": 4
 },
 "nbformat": 4,
 "nbformat_minor": 2
}
