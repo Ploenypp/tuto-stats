{
 "cells": [
  {
   "cell_type": "markdown",
   "metadata": {},
   "source": [
    "# High School Statistics"
   ]
  },
  {
   "cell_type": "code",
   "execution_count": 1,
   "metadata": {},
   "outputs": [],
   "source": [
    "# import libraries\n",
    "from scipy import stats\n",
    "import numpy as np\n",
    "import matplotlib.pyplot as plt"
   ]
  },
  {
   "cell_type": "code",
   "execution_count": 2,
   "metadata": {},
   "outputs": [],
   "source": [
    "# import functions\n",
    "from hs_stats import *"
   ]
  },
  {
   "cell_type": "markdown",
   "metadata": {},
   "source": [
    "***\n",
    "## Descriptive Statistics"
   ]
  },
  {
   "cell_type": "code",
   "execution_count": 3,
   "metadata": {},
   "outputs": [],
   "source": [
    "data = [12, 15, 12, 18, 20, 20, 20, 25, 30, 30, 30, 35, 40]"
   ]
  },
  {
   "cell_type": "markdown",
   "metadata": {},
   "source": [
    "### Mean, Median, Mode"
   ]
  },
  {
   "cell_type": "code",
   "execution_count": 4,
   "metadata": {},
   "outputs": [
    {
     "name": "stdout",
     "output_type": "stream",
     "text": [
      "my code\n",
      "mean : 23.615 | median : 20 | mode : {20, 30}\n",
      "\n",
      "check\n",
      "mean : 23.615 | median : 20.0 | mode : 20\n"
     ]
    }
   ],
   "source": [
    "m1 = mean(data)\n",
    "m2 = median(data)\n",
    "m3 = mode(data)\n",
    "\n",
    "npdata = np.array(data)\n",
    "n1 = np.mean(npdata)\n",
    "n2 = np.median(npdata)\n",
    "n3 = stats.mode(npdata).mode\n",
    "\n",
    "print(\"my code\")\n",
    "print(f'mean : {round(m1,3)} | median : {m2} | mode : {m3}')\n",
    "print(\"\\ncheck\")\n",
    "print(f'mean : {round(n1,3)} | median : {n2} | mode : {n3}')"
   ]
  },
  {
   "cell_type": "markdown",
   "metadata": {},
   "source": [
    "### Variance"
   ]
  },
  {
   "cell_type": "markdown",
   "metadata": {},
   "source": [
    "__variance__ : spread between numbers of a data set \n",
    "- __distance between each number + the average__ and thus from every number in the set\n",
    "- application : determines volatility, market stability"
   ]
  },
  {
   "cell_type": "markdown",
   "metadata": {},
   "source": [
    "#### `population` variance\n",
    "\n",
    "$\\sigma^2 = \\frac{\\sum_{i=1}^{n} (x_i - \\bar{x})^2}{N} $"
   ]
  },
  {
   "cell_type": "markdown",
   "metadata": {},
   "source": [
    "term | def / significance |\n",
    ":-: | :- |\n",
    "$x_i$ | each value in data set | \n",
    "$\\bar{x}$ | mean of data set |\n",
    "$N$ | data set size\n",
    "$x_i - \\bar{x}$ | distance between each point + mean\n",
    "$(x_i - \\bar{x})^2$ | renders all differences positive (no cancellation), emphasizes larger deviation"
   ]
  },
  {
   "cell_type": "code",
   "execution_count": 5,
   "metadata": {},
   "outputs": [
    {
     "name": "stdout",
     "output_type": "stream",
     "text": [
      "my code : 72.0828402366864\n",
      "check : 72.0828402366864\n"
     ]
    }
   ],
   "source": [
    "v1 = variance(data, False)\n",
    "v2 = np.var(data)\n",
    "\n",
    "print(f'my code : {v1}')\n",
    "print(f'check : {v2}')"
   ]
  },
  {
   "cell_type": "markdown",
   "metadata": {},
   "source": [
    "#### `sample` variance\n",
    "$s^2 = \\frac{\\sum_{i=1}^{n} (x_i - \\bar{x})^2}{n-1} $"
   ]
  },
  {
   "cell_type": "markdown",
   "metadata": {},
   "source": [
    "$n-1$ : bias correction\n",
    "- sample mean already optimized to be close to sample points\n",
    "- without correction, sample variance < population variance, systematically"
   ]
  },
  {
   "cell_type": "code",
   "execution_count": 6,
   "metadata": {},
   "outputs": [
    {
     "name": "stdout",
     "output_type": "stream",
     "text": [
      "my code : 78.08974358974359\n",
      "check : 78.08974358974359\n"
     ]
    }
   ],
   "source": [
    "v1 = variance(data, True)\n",
    "v2 = np.var(data, ddof=1)\n",
    "\n",
    "print(f'my code : {v1}')\n",
    "print(f'check : {v2}')"
   ]
  },
  {
   "cell_type": "markdown",
   "metadata": {},
   "source": [
    "### Standard Deviation"
   ]
  },
  {
   "cell_type": "markdown",
   "metadata": {},
   "source": [
    "__standard deviation__ : dispersion of individual points from mean\n",
    "- applications : determines relative riskiness of assets\n",
    "\n",
    "$\\sigma$ `population` standard deviation\n",
    "\n",
    "$s$ `sample` standard deviation\n",
    "\n",
    "$\\sqrt{variance}$"
   ]
  },
  {
   "cell_type": "code",
   "execution_count": 7,
   "metadata": {},
   "outputs": [
    {
     "name": "stdout",
     "output_type": "stream",
     "text": [
      "my code\n",
      " - 8.490161378718687 (population variance)\n",
      " - 8.836840136029597 (sample variance)\n",
      "check: 8.490161378718687\n"
     ]
    }
   ],
   "source": [
    "s1 = standard_deviation(data,False)\n",
    "s2 = standard_deviation(data,True)\n",
    "s3 = np.std(data)\n",
    "\n",
    "print(f'my code\\n - {s1} (population variance)\\n - {s2} (sample variance)')\n",
    "print(f'check: {s3}')"
   ]
  },
  {
   "cell_type": "markdown",
   "metadata": {},
   "source": [
    "When calculating the standard deviation, use the population variance if working with `complete` population data. Otherwise, the sample variance corrects bias and should be used."
   ]
  },
  {
   "cell_type": "code",
   "execution_count": 8,
   "metadata": {},
   "outputs": [
    {
     "name": "stdout",
     "output_type": "stream",
     "text": [
      "mean : 23.615384615384617, standard deviation : 8.836840136029597\n",
      "\n",
      "12 : -1.314\n",
      "15 : -0.975\n",
      "18 : -0.635\n",
      "20 : -0.409\n",
      "25 : 0.157\n",
      "30 : 0.722\n",
      "35 : 1.288\n",
      "40 : 1.854\n"
     ]
    }
   ],
   "source": [
    "print(f'mean : {mean(data)}, standard deviation : {standard_deviation(data)}\\n') \n",
    "seen = set()\n",
    "for x in data :\n",
    "    if x not in seen : \n",
    "        print(f'{x} : {round(z_score(data,x),3)}')\n",
    "        seen.add(x)"
   ]
  },
  {
   "cell_type": "markdown",
   "metadata": {},
   "source": [
    "***\n",
    "## Distributions"
   ]
  },
  {
   "cell_type": "markdown",
   "metadata": {},
   "source": [
    "### Introduction to the Normal Distribution"
   ]
  },
  {
   "cell_type": "markdown",
   "metadata": {},
   "source": [
    "#### Z-Score"
   ]
  },
  {
   "cell_type": "markdown",
   "metadata": {},
   "source": [
    "__z-score__ : distance between a data point and the mean\n",
    "- compare data points in relation to each other + overall variation/spread of data\n",
    "\n",
    "$z=(\\frac{x-\\mu}{\\sigma})$\n",
    "\n",
    "Standard Deviation and Z-Scores\n",
    "| Standard Deviation | Z-Score Relation |\n",
    "| :-: | :-: |\n",
    "| small | moderate z-score --> possible outlier |\n",
    "| large | need large z-score to be outlier |\n",
    "\n",
    "Value of Z-Scores\n",
    "| value | significance |\n",
    "| :-: | :-: |\n",
    "| 0 | = mean |\n",
    "| 1 | 1 standard deviation from the mean |\n",
    "| > 0 | above mean |\n",
    "| < 0 | below mean |"
   ]
  },
  {
   "cell_type": "markdown",
   "metadata": {},
   "source": [
    "#### Empirical rule "
   ]
  },
  {
   "cell_type": "markdown",
   "metadata": {},
   "source": [
    "![empirical rule image](assets/empiricalrule.png)"
   ]
  },
  {
   "cell_type": "markdown",
   "metadata": {},
   "source": [
    "68-95-99.7 rule \n",
    "| % data points | distance from mean (standard deviations) |\n",
    "| :-: | :-: |\n",
    "| 68% | 1 |\n",
    "| 95% | 2 |\n",
    "| 99.7 | 3 |"
   ]
  },
  {
   "cell_type": "markdown",
   "metadata": {},
   "source": [
    "#### Z-Table / Standard Normal Table "
   ]
  },
  {
   "cell_type": "markdown",
   "metadata": {},
   "source": [
    "percentile : the proportion or percentage of data points below the data point of interest\n",
    "\n",
    "A Z-Table gives the percentiles associated with z-scores of a dataset. Search the z-score using the X- and Y- axis and the value in the cross-section is the percentile. This is written mathematically as follows :\n",
    "\n",
    "$P(Z < zscore(x)) = proportion$\n",
    "\n",
    "To get the proportion of data points above the data point of interest, subtract the proportion below the data point from 1.\n",
    " \n",
    "$1 - P(Z < zscore(x)) = proportion $"
   ]
  },
  {
   "cell_type": "markdown",
   "metadata": {},
   "source": [
    "### Conditional and Marginal Distribution"
   ]
  },
  {
   "cell_type": "markdown",
   "metadata": {},
   "source": [
    "A two-way table shows the probability of an event given 2 conditions (dimensions). \n",
    "\n",
    "The marginal distribution gives the probability of a single condition. In other words, the total of a row or column divided by the overall total. \n",
    "- can be given in counts or percentages\n",
    "\n",
    "The conditional distribution is the distribution of one variable given the other (the condition). \n",
    "- always given in percentages"
   ]
  },
  {
   "cell_type": "markdown",
   "metadata": {},
   "source": [
    "***\n",
    "## Probability Basics"
   ]
  },
  {
   "cell_type": "markdown",
   "metadata": {},
   "source": [
    "### Basic Rules"
   ]
  },
  {
   "cell_type": "markdown",
   "metadata": {},
   "source": [
    "#### Addition Rule"
   ]
  },
  {
   "cell_type": "markdown",
   "metadata": {},
   "source": [
    "\n",
    "$P(A \\cup B) = \\frac{|A| + |B| - (|A+B|)}{total}$\n",
    "\n",
    "$P(A$ or $B) = P(A) + P(B) - P(A$ and $B)$"
   ]
  },
  {
   "cell_type": "markdown",
   "metadata": {},
   "source": [
    "#### Multiplication Rule : Compound probability of independent events"
   ]
  },
  {
   "cell_type": "markdown",
   "metadata": {},
   "source": [
    "$P(AABC...) = P(A_1) \\times P(A_2) \\times P(B) \\times P(C) \\times ...$"
   ]
  },
  {
   "cell_type": "markdown",
   "metadata": {},
   "source": [
    "### Conditional Probability"
   ]
  },
  {
   "cell_type": "markdown",
   "metadata": {},
   "source": [
    "$P(X) = \\frac{X}{\\Omega'}$, where $\\Omega'$ is the \"universe\" in which the conditions applies. \n",
    "Otherwise, written as $P(X|condition)$\n",
    "\n",
    "For example, when picking out things without replacement (\"sans remise\"), the total ($\\Omega$) by which you divide each time would decrease by 1 (-> $\\Omega'$). "
   ]
  },
  {
   "cell_type": "markdown",
   "metadata": {},
   "source": [
    "### Independence"
   ]
  },
  {
   "cell_type": "markdown",
   "metadata": {},
   "source": [
    "If $P(A) == P(A|B)$ and $P(B) == P(B|A)$, then $A$ and $B$ are independent.\n",
    "\n",
    "Or more formally, $P(A \\cap B) == P(A) \\times P(B)$"
   ]
  },
  {
   "cell_type": "markdown",
   "metadata": {},
   "source": [
    "### Bayes' Theorem"
   ]
  },
  {
   "cell_type": "markdown",
   "metadata": {},
   "source": [
    "$P(A|B) = \\frac{P(B|A) \\times P(A)}{P(B)}$, $P(B) \\neq 0$"
   ]
  },
  {
   "cell_type": "markdown",
   "metadata": {},
   "source": [
    "***\n",
    "## Data Visualisation"
   ]
  },
  {
   "cell_type": "markdown",
   "metadata": {},
   "source": [
    "### Histogram"
   ]
  },
  {
   "cell_type": "markdown",
   "metadata": {},
   "source": [
    "### Box Plot"
   ]
  },
  {
   "cell_type": "markdown",
   "metadata": {},
   "source": [
    "### Scatter Plot"
   ]
  },
  {
   "cell_type": "markdown",
   "metadata": {},
   "source": [
    "***\n",
    "# Sources"
   ]
  },
  {
   "cell_type": "markdown",
   "metadata": {},
   "source": [
    "Khan Academy, ChatGPT\n",
    "\n",
    "investopedia\n",
    "- https://www.investopedia.com/terms/v/variance.asp\n",
    "- https://www.investopedia.com/terms/s/standarddeviation.asp"
   ]
  }
 ],
 "metadata": {
  "kernelspec": {
   "display_name": ".venv",
   "language": "python",
   "name": "python3"
  },
  "language_info": {
   "codemirror_mode": {
    "name": "ipython",
    "version": 3
   },
   "file_extension": ".py",
   "mimetype": "text/x-python",
   "name": "python",
   "nbconvert_exporter": "python",
   "pygments_lexer": "ipython3",
   "version": "3.12.4"
  },
  "orig_nbformat": 4
 },
 "nbformat": 4,
 "nbformat_minor": 2
}
