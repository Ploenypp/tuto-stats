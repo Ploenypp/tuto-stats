{
 "cells": [
  {
   "cell_type": "markdown",
   "metadata": {},
   "source": [
    "# High School Statistics"
   ]
  },
  {
   "cell_type": "code",
   "execution_count": 1,
   "metadata": {},
   "outputs": [],
   "source": [
    "# import libraries\n",
    "from scipy import stats"
   ]
  },
  {
   "cell_type": "code",
   "execution_count": 2,
   "metadata": {},
   "outputs": [],
   "source": [
    "# import functions\n",
    "from hs_stats import *"
   ]
  },
  {
   "cell_type": "markdown",
   "metadata": {},
   "source": [
    "***\n",
    "## Descriptive Statistics"
   ]
  },
  {
   "cell_type": "code",
   "execution_count": 3,
   "metadata": {},
   "outputs": [],
   "source": [
    "data = [12, 15, 12, 18, 20, 20, 20, 25, 30, 30, 30, 35, 40]"
   ]
  },
  {
   "cell_type": "markdown",
   "metadata": {},
   "source": [
    "### Mean, Median, Mode"
   ]
  },
  {
   "cell_type": "code",
   "execution_count": 4,
   "metadata": {},
   "outputs": [
    {
     "name": "stdout",
     "output_type": "stream",
     "text": [
      "my code\n",
      "mean : 23.615 | median : 20 | mode : {20, 30}\n",
      "\n",
      "check\n",
      "mean : 23.615 | median : 20.0 | mode : 20\n"
     ]
    }
   ],
   "source": [
    "m1 = mean(data)\n",
    "m2 = median(data)\n",
    "m3 = mode(data)\n",
    "\n",
    "npdata = np.array(data)\n",
    "n1 = np.mean(npdata)\n",
    "n2 = np.median(npdata)\n",
    "n3 = stats.mode(npdata).mode\n",
    "\n",
    "print(\"my code\")\n",
    "print(f'mean : {round(m1,3)} | median : {m2} | mode : {m3}')\n",
    "print(\"\\ncheck\")\n",
    "print(f'mean : {round(n1,3)} | median : {n2} | mode : {n3}')"
   ]
  },
  {
   "cell_type": "markdown",
   "metadata": {},
   "source": [
    "### Variance"
   ]
  },
  {
   "cell_type": "markdown",
   "metadata": {},
   "source": [
    "__variance__ : spread between numbers of a data set \n",
    "- __distance between each number + the average__ and thus from every number in the set\n",
    "- application : determines volatility, market stability"
   ]
  },
  {
   "cell_type": "markdown",
   "metadata": {},
   "source": [
    "#### `population` variance\n",
    "\n",
    "$\\sigma^2 = \\frac{\\sum_{i=1}^{n} (x_i - \\bar{x})^2}{N} $"
   ]
  },
  {
   "cell_type": "markdown",
   "metadata": {},
   "source": [
    "term | def / significance |\n",
    ":-: | :- |\n",
    "$x_i$ | each value in data set | \n",
    "$\\bar{x}$ | mean of data set |\n",
    "$N$ | data set size\n",
    "$x_i - \\bar{x}$ | distance between each point + mean\n",
    "$(x_i - \\bar{x})^2$ | renders all differences positive (no cancellation), emphasizes larger deviation"
   ]
  },
  {
   "cell_type": "code",
   "execution_count": 5,
   "metadata": {},
   "outputs": [
    {
     "name": "stdout",
     "output_type": "stream",
     "text": [
      "my code : 72.0828402366864\n",
      "check : 72.0828402366864\n"
     ]
    }
   ],
   "source": [
    "v1 = p_variance(data)\n",
    "v2 = np.var(data)\n",
    "\n",
    "print(f'my code : {v1}')\n",
    "print(f'check : {v2}')"
   ]
  },
  {
   "cell_type": "markdown",
   "metadata": {},
   "source": [
    "#### `sample` variance\n",
    "$s^2 = \\frac{\\sum_{i=1}^{n} (x_i - \\bar{x})^2}{n-1} $"
   ]
  },
  {
   "cell_type": "markdown",
   "metadata": {},
   "source": [
    "$n-1$ : bias correction\n",
    "- sample mean already optimized to be close to sample points\n",
    "- without correction, sample variance < population variance, systematically"
   ]
  },
  {
   "cell_type": "code",
   "execution_count": 6,
   "metadata": {},
   "outputs": [
    {
     "name": "stdout",
     "output_type": "stream",
     "text": [
      "my code : 78.08974358974359\n",
      "check : 78.08974358974359\n"
     ]
    }
   ],
   "source": [
    "v1 = s_variance(data)\n",
    "v2 = np.var(data, ddof=1)\n",
    "\n",
    "print(f'my code : {v1}')\n",
    "print(f'check : {v2}')"
   ]
  },
  {
   "cell_type": "markdown",
   "metadata": {},
   "source": [
    "### Standard Deviation"
   ]
  },
  {
   "cell_type": "markdown",
   "metadata": {},
   "source": [
    "__standard deviation__ : dispersion of individual points from mean\n",
    "- applications : determines relative riskiness of assets\n",
    "\n",
    "$\\sigma$ `population` standard deviation\n",
    "\n",
    "$s$ `sample` standard deviation\n",
    "\n",
    "$\\sqrt{variance}$"
   ]
  },
  {
   "cell_type": "markdown",
   "metadata": {},
   "source": [
    "***\n",
    "## Probability Basics"
   ]
  },
  {
   "cell_type": "markdown",
   "metadata": {},
   "source": [
    "### Conditional Probability"
   ]
  },
  {
   "cell_type": "markdown",
   "metadata": {},
   "source": [
    "### Independence"
   ]
  },
  {
   "cell_type": "markdown",
   "metadata": {},
   "source": [
    "### Bayes' Theorem"
   ]
  },
  {
   "cell_type": "markdown",
   "metadata": {},
   "source": [
    "***\n",
    "## Data Visualisation"
   ]
  },
  {
   "cell_type": "markdown",
   "metadata": {},
   "source": [
    "### Histogram"
   ]
  },
  {
   "cell_type": "markdown",
   "metadata": {},
   "source": [
    "### Box Plot"
   ]
  },
  {
   "cell_type": "markdown",
   "metadata": {},
   "source": [
    "### Scatter Plot"
   ]
  },
  {
   "cell_type": "markdown",
   "metadata": {},
   "source": [
    "***\n",
    "# Sources"
   ]
  },
  {
   "cell_type": "markdown",
   "metadata": {},
   "source": [
    "Khan Academy, ChatGPT\n",
    "\n",
    "investopedia\n",
    "- https://www.investopedia.com/terms/v/variance.asp\n",
    "- https://www.investopedia.com/terms/s/standarddeviation.asp"
   ]
  }
 ],
 "metadata": {
  "kernelspec": {
   "display_name": ".venv",
   "language": "python",
   "name": "python3"
  },
  "language_info": {
   "codemirror_mode": {
    "name": "ipython",
    "version": 3
   },
   "file_extension": ".py",
   "mimetype": "text/x-python",
   "name": "python",
   "nbconvert_exporter": "python",
   "pygments_lexer": "ipython3",
   "version": "3.12.4"
  },
  "orig_nbformat": 4
 },
 "nbformat": 4,
 "nbformat_minor": 2
}
