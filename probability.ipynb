{
 "cells": [
  {
   "cell_type": "code",
   "execution_count": 1,
   "metadata": {},
   "outputs": [],
   "source": [
    "import random\n",
    "from math import factorial\n",
    "from itertools import permutations, product\n",
    "import matplotlib.pyplot as plt"
   ]
  },
  {
   "cell_type": "markdown",
   "metadata": {},
   "source": [
    "# Probability"
   ]
  },
  {
   "cell_type": "markdown",
   "metadata": {},
   "source": [
    "## Combinatorics"
   ]
  },
  {
   "cell_type": "markdown",
   "metadata": {},
   "source": [
    "### Permutations"
   ]
  },
  {
   "cell_type": "markdown",
   "metadata": {},
   "source": [
    "For permutations, the `order` in which items are selected `does matter`. However, items can be selected `with` or `without` replacement.\n",
    "\n",
    "| with | without |\n",
    "| :-: | :-: |\n",
    "| $n^s$ | $\\frac{n!}{(n-s)!}$"
   ]
  },
  {
   "cell_type": "code",
   "execution_count": 2,
   "metadata": {},
   "outputs": [],
   "source": [
    "def permut(n, s, replacement) :\n",
    "    if replacement : return n**s\n",
    "    else : return int(factorial(n)/factorial(n-s))"
   ]
  },
  {
   "cell_type": "markdown",
   "metadata": {},
   "source": [
    "#### _example_ : picking symbols in a pattern"
   ]
  },
  {
   "cell_type": "code",
   "execution_count": 3,
   "metadata": {},
   "outputs": [
    {
     "name": "stdout",
     "output_type": "stream",
     "text": [
      "picking 3 symbols out of 7 symbols ['☾', '♧', '☀', '♡', '♢', '☆', '♤'] for a pattern ['', '', '']\n"
     ]
    }
   ],
   "source": [
    "symbols = ['☾', '♧', '☀', '♡', '♢', '☆', '♤']\n",
    "n = len(symbols)\n",
    "s = 3\n",
    "pattern = [''] * s\n",
    "\n",
    "print(f'picking {s} symbols out of {n} symbols {symbols} for a pattern {pattern}')"
   ]
  },
  {
   "cell_type": "markdown",
   "metadata": {},
   "source": [
    "`with` replacement\n",
    "\n",
    "For each place, there are always 7 options. Every 1 symbol in a position can be followed by itself or the other 6 symbols in the following position."
   ]
  },
  {
   "cell_type": "markdown",
   "metadata": {},
   "source": [
    "`without` replacement\n",
    "\n",
    "With the first position, we have the total number of options, 7. But since this is `without` replacement, we have `1 less` option in the following positions each time. Therefore, the number of permutations could be written as $7 * 6 * 5 * 4 *...$ and so on...\n",
    "\n",
    "That's where $\\frac{1}{(n-s)!}$ comes in."
   ]
  },
  {
   "cell_type": "code",
   "execution_count": 4,
   "metadata": {},
   "outputs": [],
   "source": [
    "def factor_out_factorial(n) :\n",
    "    res = \"\"\n",
    "    while n > 1 :\n",
    "        res += str(n) + \" * \"\n",
    "        n -= 1\n",
    "    return res + \"1\""
   ]
  },
  {
   "cell_type": "code",
   "execution_count": 5,
   "metadata": {},
   "outputs": [],
   "source": [
    "def factor_out_factorial_diff(n, x) :\n",
    "    res = \"\"\n",
    "    while n > x + 1 :\n",
    "        res += str(n) + \" * \"\n",
    "        n -= 1\n",
    "    return res + str(x + 1)"
   ]
  },
  {
   "cell_type": "code",
   "execution_count": 6,
   "metadata": {},
   "outputs": [
    {
     "name": "stdout",
     "output_type": "stream",
     "text": [
      "Since we're only looking at 3 positions, we need to stop counting the 7 - 3 = 4 remaining positions.\n",
      "7-3 = 4, 4! = 4 * 3 * 2 * 1\n",
      "\n",
      "If we had decided to choose all the options (remember, order matters!), that would have been 7! = 7 * 6 * 5 * 4 * 3 * 2 * 1\n",
      "\n",
      "Dividing by (n-s)! lets us only count for the positions (first 3) we're interested in.\n",
      "That leaves us with 7 * 6 * 5\n"
     ]
    }
   ],
   "source": [
    "print(f\"Since we're only looking at {s} positions, we need to stop counting the {n} - {s} = {n-s} remaining positions.\")\n",
    "print(f\"{n}-{s} = {n-s}, {n-s}! = {factor_out_factorial(n-s)}\\n\")\n",
    "\n",
    "print(f\"If we had decided to choose all the options (remember, order matters!), that would have been {n}! = {factor_out_factorial(n)}\\n\")\n",
    "\n",
    "print(f\"Dividing by (n-s)! lets us only count for the positions (first {s}) we're interested in.\")\n",
    "print(f\"That leaves us with {factor_out_factorial_diff(7, 4)}\")\n"
   ]
  },
  {
   "cell_type": "code",
   "execution_count": 7,
   "metadata": {},
   "outputs": [],
   "source": [
    "# VISUAL DEMONSTRATION?"
   ]
  },
  {
   "cell_type": "markdown",
   "metadata": {},
   "source": [
    "### Combinations"
   ]
  },
  {
   "cell_type": "markdown",
   "metadata": {},
   "source": [
    "For combinations, the `order` in which items are selected `does not matter`. However, items can be selected `with` or `without` replacement.\n",
    "\n",
    "| with | without |\n",
    "| :-: | :-: |\n",
    "| $\\frac{(n-1+s)!}{s!(n-1)!}$ | $\\frac{n!}{s!(n-s)!}$"
   ]
  },
  {
   "cell_type": "markdown",
   "metadata": {},
   "source": [
    "_example_ : picking flowers for a bouquet"
   ]
  },
  {
   "cell_type": "code",
   "execution_count": 8,
   "metadata": {},
   "outputs": [],
   "source": [
    "def combin(n, s, replacement) :\n",
    "    if replacement : return int(factorial(n-1+s)/(factorial(s)*factorial(n-1)))\n",
    "    else : return int(factorial(n)/(factorial(s)*factorial(n-2)))"
   ]
  },
  {
   "cell_type": "code",
   "execution_count": 9,
   "metadata": {},
   "outputs": [
    {
     "name": "stdout",
     "output_type": "stream",
     "text": [
      "picking 3 flowers out of 6 options : {'lily', 'iris', 'peony', 'rose', 'daisy', 'orchid'}\n",
      "with replacement : 56 combinations\n",
      "without replacement : 5 combinations\n",
      "\n"
     ]
    }
   ],
   "source": [
    "flowers = {\"rose\", \"lily\", \"orchid\", \"iris\", \"peony\", \"daisy\"} # < {*}\n",
    "n = len(flowers)\n",
    "s = 3 # < {*}\n",
    "\n",
    "print(f'picking {s} flowers out of {n} options : {flowers}')\n",
    "print(f'with replacement : {combin(n,s,True)} combinations')\n",
    "print(f'without replacement : {combin(n,s,False)} combinations\\n')"
   ]
  },
  {
   "cell_type": "markdown",
   "metadata": {},
   "source": [
    "#### `with` replacement demonstration"
   ]
  },
  {
   "cell_type": "code",
   "execution_count": 10,
   "metadata": {},
   "outputs": [
    {
     "name": "stdout",
     "output_type": "stream",
     "text": [
      "We might have first assumed that the number of combinations WITH replacement ought to be 6^3 = 216\n",
      "However, n^s is the formula for PERMUTATIONS WITH replacement\n",
      "\n"
     ]
    }
   ],
   "source": [
    "print(f'We might have first assumed that the number of combinations WITH replacement ought to be {n}^{s} = {n ** s}') \n",
    "print(f'However, n^s is the formula for PERMUTATIONS WITH replacement\\n')\n"
   ]
  },
  {
   "cell_type": "markdown",
   "metadata": {},
   "source": [
    "We previously saw with permutations that dividing removes possibilities. Let's break down the denominator, starting with $s!$\n"
   ]
  },
  {
   "cell_type": "code",
   "execution_count": 11,
   "metadata": {},
   "outputs": [
    {
     "name": "stdout",
     "output_type": "stream",
     "text": [
      "Remember, here, order does NOT matter so\n",
      "('lily', 'rose', 'iris')\n",
      "('iris', 'lily', 'rose')\n",
      "('iris', 'rose', 'lily')\n",
      "('lily', 'iris', 'rose')\n",
      "('rose', 'lily', 'iris')\n",
      "('rose', 'iris', 'lily')\n",
      "are all considered to be the same.\n",
      "\n",
      "This means that we have to count all the different ways 3 items can be ORDERED -- a PERMUTATION WITHOUT replacement!\n",
      "s! -> 3! = 3 * 2 * 1\n"
     ]
    }
   ],
   "source": [
    "print(f\"Remember, here, order does NOT matter so\")\n",
    "for x in set(permutations({'iris','rose','lily'}, 3)) :\n",
    "    print(x)\n",
    "print(f\"are all considered to be the same.\\n\")\n",
    "print(f\"This means that we have to count all the different ways {s} items can be ORDERED -- a PERMUTATION WITHOUT replacement!\")\n",
    "print(f\"s! -> {s}! = {factor_out_factorial(s)}\")"
   ]
  },
  {
   "cell_type": "markdown",
   "metadata": {},
   "source": [
    "Next, let's look at the 2nd factor of the denominator $(n-1)!$ \n",
    "\n",
    "$(n-1)!$ gives the number of ways we can `group` or `partition` $n$ `categories`. "
   ]
  },
  {
   "cell_type": "code",
   "execution_count": 12,
   "metadata": {},
   "outputs": [
    {
     "name": "stdout",
     "output_type": "stream",
     "text": [
      "We could say that n-1 is the number of separators (|) between n categories.\n",
      "lily | iris | peony | rose | daisy | orchid \n",
      "\n",
      "But we could also say that it's the number of categories whose positions we can choose.\n",
      "['rose']\n",
      "['rose', 'lily']\n",
      "['rose', 'lily', 'iris']\n",
      "['rose', 'lily', 'iris', 'orchid']\n",
      "['rose', 'lily', 'iris', 'orchid', 'peony']\n",
      "\n",
      "Here, we can see that there is not a choice for the last position. It has to be daisy.\n",
      "['rose', 'lily', 'iris', 'orchid', 'peony', 'daisy']\n"
     ]
    }
   ],
   "source": [
    "print(f\"We could say that n-1 is the number of separators (|) between n categories.\")\n",
    "for x in list(flowers)[:-1] :\n",
    "    print(x,\"| \",end=\"\")\n",
    "print(list(flowers)[-1],\"\\n\")\n",
    "\n",
    "print(f\"But we could also say that it's the number of categories whose positions we can choose.\")\n",
    "order = []\n",
    "i = 0\n",
    "while i < n-1 :\n",
    "    f = random.choice(list(flowers))\n",
    "    if f not in order : \n",
    "        order.append(f)\n",
    "        i += 1\n",
    "        print(order)\n",
    "last_flower = \"\"\n",
    "for x in list(flowers) :\n",
    "    if x not in order :\n",
    "        last_flower = x\n",
    "        break\n",
    "print(f\"\\nHere, we can see that there is not a choice for the last position. It has to be {last_flower}.\")\n",
    "order.append(last_flower)\n",
    "print(order)\n"
   ]
  },
  {
   "cell_type": "markdown",
   "metadata": {},
   "source": [
    "This leads us to our numerator, (n-1+s)! \n",
    "\n",
    "With permutations, we saw that the numerator typically counts the number of total possibilities. So what are each of the terms?\n",
    "\n",
    "As we've previously established, \n",
    "| term | number of... |\n",
    "| :-: | :-: |\n",
    "| s | items to be selected |\n",
    "| n-1 | separators between categories |\n",
    "\n",
    "Based on what we have seen so far, (n-1+s)! counts the number of ways n-1+s items can be ordered without replacement. In more literal terms, how s items can be placed among n-1 separators."
   ]
  },
  {
   "cell_type": "code",
   "execution_count": 13,
   "metadata": {},
   "outputs": [
    {
     "name": "stdout",
     "output_type": "stream",
     "text": [
      "There are 2 ways we can visualize the selection.\n",
      "Firstly, we can set an arbitrary order for the flower species/categories (since order doesn't matter for combinations).\n",
      "categories : ['rose', 'lily', 'iris', 'orchid', 'peony', 'daisy']\n",
      "\n",
      "The 1st visualization is to show the pick counts for each category.\t[0, 0, 0, 0, 0, 0]\n",
      "The 2nd visualization is to show the separators as items as well.\t['_', '_', '_', '_', '_', '_', '_', '_']\n",
      "\n",
      "The selection process can be represented as follows...\n",
      "[0, 0, 0, 0, 0, 0]\t\t['|', '_', '_', '_', '_', '_', '_', '_']\n",
      "[0, 1, 0, 0, 0, 0]\t\t['|', '*', '_', '_', '_', '_', '_', '_']\n",
      "[0, 1, 0, 0, 0, 0]\t\t['|', '*', '|', '_', '_', '_', '_', '_']\n",
      "[0, 1, 1, 0, 0, 0]\t\t['|', '*', '|', '*', '_', '_', '_', '_']\n",
      "[0, 1, 1, 0, 0, 0]\t\t['|', '*', '|', '*', '|', '_', '_', '_']\n",
      "[0, 1, 1, 0, 0, 0]\t\t['|', '*', '|', '*', '|', '|', '_', '_']\n",
      "[0, 1, 1, 0, 0, 0]\t\t['|', '*', '|', '*', '|', '|', '|', '_']\n",
      "[0, 1, 1, 0, 0, 0]\t\t['|', '*', '|', '*', '|', '|', '|', '_']\n",
      "[0, 1, 1, 0, 0, 1]\t\t['|', '*', '|', '*', '|', '|', '|', '*']\n",
      "\n",
      "...which gives us...\n",
      "| * | * | | | * \n",
      "rose : 0 | lily : 1 | iris : 1 | orchid : 0 | peony : 0 | daisy : 1\n",
      "\n",
      "However, the numerator alone (n-1+s)! counts the following example as a unique possibility and not the same possibility.\n",
      "| | * | * | * | \n",
      "orchid : 0 | rose : 0 | daisy : 1 | lily : 1 | iris : 1 | peony : 0\n"
     ]
    }
   ],
   "source": [
    "selection = [\"_\"] * (n-1+s)\n",
    "selection_cpt = [0] * n\n",
    "items = [\"*\"] * s + [\"|\"] * (n-1)\n",
    "flower_cpt = 0\n",
    "separator_cpt = 0\n",
    "\n",
    "print(\"There are 2 ways we can visualize the selection.\")\n",
    "print(\"Firstly, we can set an arbitrary order for the flower species/categories (since order doesn't matter for combinations).\")\n",
    "print(f\"categories : {order}\\n\")\n",
    "\n",
    "print(f\"The 1st visualization is to show the pick counts for each category.\\t{selection_cpt}\")\n",
    "print(f\"The 2nd visualization is to show the separators as items as well.\\t{selection}\\n\")\n",
    "\n",
    "print(\"The selection process can be represented as follows...\")\n",
    "\n",
    "i = 0\n",
    "idx = 0\n",
    "while i < n-1+s :\n",
    "    x = random.choice(items)\n",
    "    if x == \"*\" and flower_cpt < s :\n",
    "        selection[i] = x\n",
    "        selection_cpt[idx] += 1\n",
    "        flower_cpt += 1\n",
    "        i += 1\n",
    "    if x == \"|\" and separator_cpt < n-1 :\n",
    "        selection[i] = x\n",
    "        separator_cpt += 1\n",
    "        i += 1\n",
    "        idx += 1\n",
    "    print(f\"{selection_cpt}\\t\\t{selection}\")\n",
    "\n",
    "print(f\"\\n...which gives us...\")\n",
    "for x in selection :\n",
    "    print(x,end=\" \")\n",
    "print()\n",
    "for i in range(n-1) :\n",
    "    print(f\"{order[i]} : {selection_cpt[i]}\",end=\" | \")\n",
    "print(f\"{order[n-1]} : {selection_cpt[n-1]}\")\n",
    "\n",
    "print(f\"\\nHowever, the numerator alone (n-1+s)! counts the following example as a unique possibility and not the same possibility.\")\n",
    "\n",
    "aux_order = []\n",
    "aux_cpt = []\n",
    "chosen = set()\n",
    "i = 0\n",
    "while i < n :\n",
    "    x = random.randint(0,n-1)\n",
    "    if x not in chosen :\n",
    "        aux_order.append(order[x])\n",
    "        aux_cpt.append(selection_cpt[x])\n",
    "        chosen.add(x)\n",
    "        i += 1\n",
    "\n",
    "for i in range(n) : \n",
    "    for j in range(aux_cpt[i]) :\n",
    "        print(\"*\",end=\" \")\n",
    "    if i < n-1 : print(\"|\",end=\" \")\n",
    "print()\n",
    "for i in range(n-1) :\n",
    "    print(f\"{aux_order[i]} : {aux_cpt[i]}\",end=\" | \")\n",
    "print(f\"{aux_order[n-1]} : {aux_cpt[n-1]}\")\n"
   ]
  },
  {
   "cell_type": "markdown",
   "metadata": {},
   "source": [
    "Thus, the formula for combinations `with` replacement is $\\frac{(n-1+s)!}{s!(n-1)!}$"
   ]
  },
  {
   "cell_type": "markdown",
   "metadata": {},
   "source": [
    "#### `without` replacement demonstration"
   ]
  },
  {
   "cell_type": "markdown",
   "metadata": {},
   "source": [
    "The one similar term between the formulas for `with` and `without` replacement is the $s!$ in the denominator, which we established to remove the possibilities where the same items are selected in a different orders. Let's take a look at the remaining terms.\n",
    "\n",
    "This time, we start with the numerator : $n!$\n",
    "\n",
    "This is straight forward. The numerator counts all possibilities, but since this is without replacement, each time an option is selected, it's removed."
   ]
  },
  {
   "cell_type": "code",
   "execution_count": 14,
   "metadata": {},
   "outputs": [
    {
     "name": "stdout",
     "output_type": "stream",
     "text": [
      "n! -> 6! = 6 * 5 * 4 * 3 * 2 * 1\n"
     ]
    }
   ],
   "source": [
    "print(f\"n! -> {n}! = {factor_out_factorial(n)}\")"
   ]
  },
  {
   "cell_type": "markdown",
   "metadata": {},
   "source": [
    "Let's look at $(n-s)!$ \n",
    "\n",
    "Based on what we have seen before with combinations with replacement, $(n-s)!$ should count the number of ways we can partition the groups. However, that would imply that we have $n-s$ separators to partition $n$ groups, which does not work out unless we consider the chosen categories to be a single group. Notice how $n-s$ is the number of options `not` chosen."
   ]
  },
  {
   "cell_type": "code",
   "execution_count": 39,
   "metadata": {},
   "outputs": [
    {
     "name": "stdout",
     "output_type": "stream",
     "text": [
      "n! -> 6! = 6 * 5 * 4 * 3 * 2 * 1\n",
      "However, we are only interested in the possibilities where 4 options are selected.\n",
      "Therefore, we have to remove the possibilities that count those extra options.\n",
      "\n",
      "(n-s)! -> 2! = 2 * 1\n",
      "Additionally, do not forget that the factorial ensures that we are removing the different orders of the same options left out\n",
      "as this is a combination.\n"
     ]
    }
   ],
   "source": [
    "print(f\"n! -> {n}! = {factor_out_factorial(n)}\")\n",
    "print(f\"However, we are only interested in the possibilities where {s} options are selected.\\nTherefore, we have to remove the possibilities that count those extra options.\\n\")\n",
    "\n",
    "print(f\"(n-s)! -> {n-s}! = {factor_out_factorial(n-s)}\")\n",
    "print(f\"Additionally, do not forget that the factorial ensures that we are removing the different orders of the same options left out\\nas this is a combination.\")\n"
   ]
  },
  {
   "cell_type": "code",
   "execution_count": null,
   "metadata": {},
   "outputs": [],
   "source": []
  }
 ],
 "metadata": {
  "kernelspec": {
   "display_name": ".venv",
   "language": "python",
   "name": "python3"
  },
  "language_info": {
   "codemirror_mode": {
    "name": "ipython",
    "version": 3
   },
   "file_extension": ".py",
   "mimetype": "text/x-python",
   "name": "python",
   "nbconvert_exporter": "python",
   "pygments_lexer": "ipython3",
   "version": "3.12.4"
  },
  "orig_nbformat": 4
 },
 "nbformat": 4,
 "nbformat_minor": 2
}
