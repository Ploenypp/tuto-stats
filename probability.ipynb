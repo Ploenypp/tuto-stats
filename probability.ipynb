{
 "cells": [
  {
   "cell_type": "code",
   "execution_count": 38,
   "metadata": {},
   "outputs": [],
   "source": [
    "import random\n",
    "from math import factorial\n",
    "from itertools import permutations\n",
    "import matplotlib.pyplot as plt"
   ]
  },
  {
   "cell_type": "markdown",
   "metadata": {},
   "source": [
    "# Probability"
   ]
  },
  {
   "cell_type": "markdown",
   "metadata": {},
   "source": [
    "## Combinatorics"
   ]
  },
  {
   "cell_type": "markdown",
   "metadata": {},
   "source": [
    "### Permutations"
   ]
  },
  {
   "cell_type": "markdown",
   "metadata": {},
   "source": [
    "For permutations, the `order` in which items are selected `does matter`. However, items can be selected `with` or `without` replacement.\n",
    "\n",
    "| with | without |\n",
    "| :-: | :-: |\n",
    "| $n^s$ | $\\frac{n!}{(n-s)!}$"
   ]
  },
  {
   "cell_type": "code",
   "execution_count": 39,
   "metadata": {},
   "outputs": [],
   "source": [
    "def permut(n, s, replacement) :\n",
    "    if replacement : return n**s\n",
    "    else : return int(factorial(n)/factorial(n-s))"
   ]
  },
  {
   "cell_type": "markdown",
   "metadata": {},
   "source": [
    "#### _example_ : picking symbols in a pattern"
   ]
  },
  {
   "cell_type": "code",
   "execution_count": 40,
   "metadata": {},
   "outputs": [
    {
     "name": "stdout",
     "output_type": "stream",
     "text": [
      "picking 3 symbols out of 7 symbols ['☾', '♧', '☀', '♡', '♢', '☆', '♤'] for a pattern ['', '', '']\n"
     ]
    }
   ],
   "source": [
    "symbols = ['☾', '♧', '☀', '♡', '♢', '☆', '♤']\n",
    "n = len(symbols)\n",
    "s = 3\n",
    "pattern = [''] * s\n",
    "\n",
    "print(f'picking {s} symbols out of {n} symbols {symbols} for a pattern {pattern}')"
   ]
  },
  {
   "cell_type": "markdown",
   "metadata": {},
   "source": [
    "`with` replacement\n",
    "\n",
    "For each place, there are always 7 options. Every 1 symbol in a position can be followed by itself or the other 6 symbols in the following position."
   ]
  },
  {
   "cell_type": "markdown",
   "metadata": {},
   "source": [
    "`without` replacement\n",
    "\n",
    "With the first position, we have the total number of options, 7. But since this is `without` replacement, we have `1 less` option in the following positions each time. Therefore, the number of permutations could be written as $7 * 6 * 5 * 4 *...$ and so on...\n",
    "\n",
    "That's where $\\frac{1}{(n-s)!}$ comes in."
   ]
  },
  {
   "cell_type": "code",
   "execution_count": 41,
   "metadata": {},
   "outputs": [],
   "source": [
    "def factor_out_factorial(n) :\n",
    "    res = \"\"\n",
    "    while n > 1 :\n",
    "        res += str(n) + \" * \"\n",
    "        n -= 1\n",
    "    return res + \"1\""
   ]
  },
  {
   "cell_type": "code",
   "execution_count": 42,
   "metadata": {},
   "outputs": [],
   "source": [
    "def factor_out_factorial_diff(n, x) :\n",
    "    res = \"\"\n",
    "    while n > x + 1 :\n",
    "        res += str(n) + \" * \"\n",
    "        n -= 1\n",
    "    return res + str(x + 1)"
   ]
  },
  {
   "cell_type": "code",
   "execution_count": 43,
   "metadata": {},
   "outputs": [
    {
     "name": "stdout",
     "output_type": "stream",
     "text": [
      "Since we're only looking at 3 positions, we need to stop counting the 7 - 3 = 4 remaining positions.\n",
      "7-3 = 4, 4! = 4 * 3 * 2 * 1\n",
      "\n",
      "If we had decided to choose all the options (remember, order matters!), that would have been 7! = 7 * 6 * 5 * 4 * 3 * 2 * 1\n",
      "\n",
      "Dividing by (n-s)! lets us only count for the positions (first 3) we're interested in.\n",
      "That leaves us with 7 * 6 * 5\n"
     ]
    }
   ],
   "source": [
    "print(f\"Since we're only looking at {s} positions, we need to stop counting the {n} - {s} = {n-s} remaining positions.\")\n",
    "print(f\"{n}-{s} = {n-s}, {n-s}! = {factor_out_factorial(n-s)}\\n\")\n",
    "\n",
    "print(f\"If we had decided to choose all the options (remember, order matters!), that would have been {n}! = {factor_out_factorial(n)}\\n\")\n",
    "\n",
    "print(f\"Dividing by (n-s)! lets us only count for the positions (first {s}) we're interested in.\")\n",
    "print(f\"That leaves us with {factor_out_factorial_diff(7, 4)}\")\n"
   ]
  },
  {
   "cell_type": "code",
   "execution_count": 44,
   "metadata": {},
   "outputs": [],
   "source": [
    "# VISUAL DEMONSTRATION?"
   ]
  },
  {
   "cell_type": "markdown",
   "metadata": {},
   "source": [
    "### Combinations"
   ]
  },
  {
   "cell_type": "markdown",
   "metadata": {},
   "source": [
    "For combinations, the `order` in which items are selected `does not matter`. However, items can be selected `with` or `without` replacement.\n",
    "\n",
    "| with | without |\n",
    "| :-: | :-: |\n",
    "| $\\frac{(n-1+s)!}{s!(n-1)!}$ | $\\frac{n!}{s!(n-s)!}$"
   ]
  },
  {
   "cell_type": "markdown",
   "metadata": {},
   "source": [
    "#### _example_ : picking flowers for a bouquet"
   ]
  },
  {
   "cell_type": "code",
   "execution_count": 45,
   "metadata": {},
   "outputs": [],
   "source": [
    "def combin(n, s, replacement) :\n",
    "    if replacement : return int(factorial(n-1+s)/(factorial(s)*factorial(n-1)))\n",
    "    else : return int(factorial(n)/(factorial(s)*factorial(n-2)))"
   ]
  },
  {
   "cell_type": "code",
   "execution_count": 46,
   "metadata": {},
   "outputs": [
    {
     "name": "stdout",
     "output_type": "stream",
     "text": [
      "picking 3 flowers out of 5 options : {'orchid', 'peony', 'iris', 'rose', 'lily'}\n",
      "with replacement : 35 combinations\n",
      "without replacement : 3 combinations\n",
      "\n"
     ]
    }
   ],
   "source": [
    "flowers = {\"rose\", \"lily\", \"orchid\", \"iris\", \"peony\"}\n",
    "n = len(flowers)\n",
    "s = 3 # < {*}\n",
    "\n",
    "print(f'picking {s} flowers out of {n} options : {flowers}')\n",
    "print(f'with replacement : {combin(n,s,True)} combinations')\n",
    "print(f'without replacement : {combin(n,s,False)} combinations\\n')"
   ]
  },
  {
   "cell_type": "markdown",
   "metadata": {},
   "source": [
    "##### `with` replacement"
   ]
  },
  {
   "cell_type": "code",
   "execution_count": 47,
   "metadata": {},
   "outputs": [
    {
     "name": "stdout",
     "output_type": "stream",
     "text": [
      "We might have first assumed that the number of combinations WITH replacement ought to be 5^3 = 125\n",
      "However, n^s is the formula for PERMUTATIONS WITH replacement\n",
      "\n"
     ]
    }
   ],
   "source": [
    "print(f'We might have first assumed that the number of combinations WITH replacement ought to be {n}^{s} = {n ** s}') \n",
    "print(f'However, n^s is the formula for PERMUTATIONS WITH replacement\\n')\n"
   ]
  },
  {
   "cell_type": "markdown",
   "metadata": {},
   "source": [
    "We previously saw with permutations that dividing removes possibilities. Let's break down the denominator, starting with $s!$\n"
   ]
  },
  {
   "cell_type": "code",
   "execution_count": 48,
   "metadata": {},
   "outputs": [
    {
     "name": "stdout",
     "output_type": "stream",
     "text": [
      "Remember, here, order does NOT matter so\n",
      "('rose', 'lily', 'iris')\n",
      "('iris', 'rose', 'lily')\n",
      "('lily', 'iris', 'rose')\n",
      "('iris', 'lily', 'rose')\n",
      "('lily', 'rose', 'iris')\n",
      "('rose', 'iris', 'lily')\n",
      "are all considered to be the same.\n",
      "\n",
      "This means that we have to count all the different ways 3 items can be ORDERED -- a PERMUTATION WITHOUT replacement!\n",
      "s! -> 3! = 3 * 2 * 1\n"
     ]
    }
   ],
   "source": [
    "print(f\"Remember, here, order does NOT matter so\")\n",
    "for x in set(permutations({'iris','rose','lily'}, 3)) :\n",
    "    print(x)\n",
    "print(f\"are all considered to be the same.\\n\")\n",
    "print(f\"This means that we have to count all the different ways {s} items can be ORDERED -- a PERMUTATION WITHOUT replacement!\")\n",
    "print(f\"s! -> {s}! = {factor_out_factorial(s)}\")"
   ]
  },
  {
   "cell_type": "markdown",
   "metadata": {},
   "source": [
    "Next, let's look at the 2nd factor of the denominator $(n-1)!$ \n",
    "\n",
    "$(n-1)!$ gives the number of ways we can `group` or `partition` $n$ `categories`.\n",
    "\n",
    "> `QUESTION : why n items into n categories?`"
   ]
  },
  {
   "cell_type": "code",
   "execution_count": 183,
   "metadata": {},
   "outputs": [
    {
     "name": "stdout",
     "output_type": "stream",
     "text": [
      "To start, we have [0, 0, 0, 0, 0]\n",
      "\n",
      "We can decide to partition off 3 flower(s) in the 1st category, leaving us with 2 flower(s)\n",
      "[3, 0, 0, 0, 0]\n",
      "\n",
      "position 2 : partition 2 flower(s), 0 flower(s) left\n",
      "[3, 2, 0, 0, 0]\n",
      "\n",
      "[3, 2, 0, 0, 0] is 1 way to partition 5 items into 5 categories\n",
      "\n",
      "Notice how there is not a required number of items for each category, ensuring that repetition is allowed.\n",
      "Additionally, notice we cannot decide how many items are partitioned into the final position/category.\n",
      "\n",
      "Therefore, rather than counting the number of ways items can be ordered, this is counting the number of ways items can be partitioned.\n",
      "We do not need to consider the case where a category may be represented by a different position since this is a combination. \n",
      "Thus, it is indeed a PERMUTATION WITHOUT replacement of n-1 items (the number of separators between n categories).\n",
      "(n-1)! -> (5-1)! = 4! = 4 * 3 * 2 * 1\n"
     ]
    }
   ],
   "source": [
    "partition = [0] * n\n",
    "print(f\"To start, we have {partition}\")\n",
    "\n",
    "total = n\n",
    "p = 0\n",
    "nb = random.randint(0,total)\n",
    "partition[p] = nb\n",
    "total -= nb\n",
    "p += 1\n",
    "print(f\"\\nWe can decide to partition off {nb} flower(s) in the 1st category, leaving us with {total} flower(s)\")\n",
    "print(partition)\n",
    "\n",
    "while total > 0 and p < n-1 :\n",
    "    if total != 0 :\n",
    "        nb = random.randint(0,total)\n",
    "        partition[p] = nb\n",
    "        total -= nb\n",
    "        p += 1\n",
    "        print(f\"\\nposition {p} : partition {nb} flower(s), {total} flower(s) left\")\n",
    "        print(partition)\n",
    "\n",
    "if total > 0 :\n",
    "    print(f\"\\nThe remaining {total} flower(s) is/are placed in the last position\")\n",
    "    partition[p] = total\n",
    "print(f\"\\n{partition} is 1 way to partition {n} items into {n} categories\\n\")\n",
    "print(f\"Notice how there is not a required number of items for each category, ensuring that repetition is allowed.\\nAdditionally, notice we cannot decide how many items are partitioned into the final position/category.\\n\\nTherefore, rather than counting the number of ways items can be ordered, this is counting the number of ways items can be partitioned.\\nWe do not need to consider the case where a category may be represented by a different position since this is a combination. \\nThus, it is indeed a PERMUTATION WITHOUT replacement of n-1 items (the number of separators between n categories).\")\n",
    "\n",
    "print(f\"(n-1)! -> ({n}-1)! = {n-1}! = {factor_out_factorial(n-1)}\")"
   ]
  },
  {
   "cell_type": "markdown",
   "metadata": {},
   "source": [
    "This leads us to our numerator, (n-1+s)! \n",
    "\n",
    "With permutations, we saw that the numerator typically counts the number of total possibilities. So what are each of the terms?\n",
    "\n",
    "As we've previously established, \n",
    "| term | number of... |\n",
    "| :-: | :-: |\n",
    "| s | items to be selected |\n",
    "| n-1 | separators between categories |\n",
    "\n",
    "Based on what we have seen so far, (n-1+s)! counts the number of ways n-1+s items can be ordered without replacement. In more literal terms, how s items can be placed among n-1 separators."
   ]
  }
 ],
 "metadata": {
  "kernelspec": {
   "display_name": ".venv",
   "language": "python",
   "name": "python3"
  },
  "language_info": {
   "codemirror_mode": {
    "name": "ipython",
    "version": 3
   },
   "file_extension": ".py",
   "mimetype": "text/x-python",
   "name": "python",
   "nbconvert_exporter": "python",
   "pygments_lexer": "ipython3",
   "version": "3.12.4"
  },
  "orig_nbformat": 4
 },
 "nbformat": 4,
 "nbformat_minor": 2
}
