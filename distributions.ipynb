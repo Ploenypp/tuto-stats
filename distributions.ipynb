{
 "cells": [
  {
   "cell_type": "code",
   "execution_count": 1,
   "metadata": {},
   "outputs": [],
   "source": [
    "from random import random\n",
    "from math import ceil\n",
    "from collections import Counter, OrderedDict\n",
    "import matplotlib.pyplot as plt\n",
    "import pandas as pd"
   ]
  },
  {
   "cell_type": "markdown",
   "metadata": {},
   "source": [
    "# Random Variables & Probability Distributions"
   ]
  },
  {
   "cell_type": "markdown",
   "metadata": {},
   "source": [
    "Say $X$ is our random variable. What does $P(X)$ mean then?\n",
    "\n",
    "We're actually more interested in $P(X = value)$ : the `probability that our random variable is a certain value`.\n",
    "\n",
    "The value of $X$ is not to be calculated. We already know the values or the range of values $X$ can be. We want to know the probability that $X$ is a certain value or another. "
   ]
  },
  {
   "cell_type": "markdown",
   "metadata": {},
   "source": [
    "## Expectation &  Variance"
   ]
  },
  {
   "cell_type": "markdown",
   "metadata": {},
   "source": [
    "`expectation` : mean of the random variable/weighted sum of the outcomes\n",
    "\n",
    "$ E(X) = \\mu = \\sum_x {xP(X=x)} $\n",
    "\n",
    "`variance` : measure of how much the datapoints are dispersed from the mean in terms of `standard deviation`s\n",
    "\n",
    "$Var(X) = \\sum_x{[P(X=x)(x-\\mu)^2]}$\n",
    "\n",
    "$\\sigma = \\sqrt{Var(X)}$"
   ]
  },
  {
   "cell_type": "markdown",
   "metadata": {},
   "source": [
    "Before we delve further into the expectation and variances of random variables, let's learn about some common probability distributions."
   ]
  },
  {
   "cell_type": "markdown",
   "metadata": {},
   "source": [
    "## Probability Distributions"
   ]
  },
  {
   "cell_type": "markdown",
   "metadata": {},
   "source": [
    "### Bernoulli"
   ]
  },
  {
   "cell_type": "markdown",
   "metadata": {},
   "source": [
    "a `single trial` with 2 outcomes (success/failure) and 1 parameter\n",
    " \n",
    "$P(X = 1) = p$\n",
    "\n",
    "$P(X = 0) = 1 - p$"
   ]
  },
  {
   "cell_type": "markdown",
   "metadata": {},
   "source": [
    "### Binomial"
   ]
  },
  {
   "cell_type": "markdown",
   "metadata": {},
   "source": [
    "based on a `series of independent Bernoulli trials` and counts the number of successes ($k$) in $n$ trials\n",
    "\n",
    "The probability of success $p$ and the number of independent trials $n$ must be constant.\n",
    "\n",
    "$P(X = k) = (n,k) = p^k(1-p)^{n-k}$\n"
   ]
  },
  {
   "cell_type": "markdown",
   "metadata": {},
   "source": [
    "$E(X_{binomial}) = np$\n",
    "\n",
    "$Var(X_{binomial}) = np(1-p)$"
   ]
  },
  {
   "cell_type": "code",
   "execution_count": 2,
   "metadata": {},
   "outputs": [],
   "source": [
    "def binomial(p,n,k) :\n",
    "    return (p**k)*((1-p)**(n-k))"
   ]
  },
  {
   "cell_type": "markdown",
   "metadata": {},
   "source": [
    "_example : picking cookies out of a bag_"
   ]
  },
  {
   "cell_type": "code",
   "execution_count": 3,
   "metadata": {},
   "outputs": [
    {
     "name": "stdout",
     "output_type": "stream",
     "text": [
      "Let's say that a bakery produces 3 kinds of cookies.\n",
      "The ♡-shaped cookies have a 25.0% chance of being produced;\n",
      "the ☆-shaped, 30.0%;\n",
      "and the ☐-shaped, 45.0%.\n",
      "\n",
      "In a bag of 25 cookies, what is the probability that exactly 10 cookies would be ♡-shaped?\n",
      "\t-- 2.8033875960062384e-06%\n"
     ]
    }
   ],
   "source": [
    "n = 25 # < {*}\n",
    "k = 10 # < {*}\n",
    "p1 = 0.25 # < {*}\n",
    "p2 = 0.3 # < {*}\n",
    "p3 = 0.45 # < {*}\n",
    "cookie_types = ['♡','☆','☐']\n",
    "\n",
    "print(f\"Let's say that a bakery produces 3 kinds of cookies.\\nThe ♡-shaped cookies have a {p1*100}% chance of being produced;\\nthe ☆-shaped, {p2*100}%;\\nand the ☐-shaped, {p3*100}%.\\n\\nIn a bag of {n} cookies, what is the probability that exactly {k} cookies would be ♡-shaped?\")\n",
    "\n",
    "print(f\"\\t-- {binomial(0.3,n,k)*100}%\")\n"
   ]
  },
  {
   "cell_type": "markdown",
   "metadata": {},
   "source": [
    "The probability of being an exact value is extremely small in most cases so exact values are not of much interest. Rather, it's better to calculate the probability of being within a range."
   ]
  },
  {
   "cell_type": "code",
   "execution_count": 4,
   "metadata": {},
   "outputs": [
    {
     "name": "stdout",
     "output_type": "stream",
     "text": [
      "Instead, let's ask what is the probability that ♡-shaped cookies make up more than 1/5 of the cookies.\n",
      "This would be equal to the probability that ♡-shaped cookies make up less than or equal to 1/5 of the cookies subtracted from 1.\n",
      "\t0 cookies : 0.07525434581650003%\n",
      "\t\t\t+\n",
      "\t1 cookies : 0.025084781938833345%\n",
      "\t\t\t+\n",
      "\t2 cookies : 0.008361593979611115%\n",
      "\t\t\t+\n",
      "\t3 cookies : 0.002787197993203705%\n",
      "\t\t\t+\n",
      "\t4 cookies : 0.0009290659977345683%\n",
      "\t\t\t+\n",
      "\t5 cookies : 0.0003096886659115228%\n",
      "\t\t\t=\n",
      "\t\t0.11272667439179429\n",
      "\n",
      "\t1 - 0.11272667439179429 = 0.8872733256082057\n",
      "\t88.727%\n"
     ]
    }
   ],
   "source": [
    "f = 5 # < {*}\n",
    "print(f\"Instead, let's ask what is the probability that ♡-shaped cookies make up more than 1/{f} of the cookies.\")\n",
    "print(f\"This would be equal to the probability that ♡-shaped cookies make up less than or equal to 1/{f} of the cookies subtracted from 1.\")\n",
    "\n",
    "for i in range(ceil(n/f)) :\n",
    "    print(f\"\\t{i} cookies : {binomial(p1,n,i)*100}%\")\n",
    "    print(f\"\\t\\t\\t+\")\n",
    "print(f\"\\t{f} cookies : {binomial(p1,n,f)*100}%\\n\\t\\t\\t=\")\n",
    "leq_third = sum([binomial(p1,n,i)*100 for i in range(ceil(n/f)+1)])\n",
    "predicted = round((1-leq_third)*100,3)\n",
    "print(f\"\\t\\t{leq_third}\\n\")\n",
    "print(f\"\\t1 - {leq_third} = {1-leq_third}\")\n",
    "print(f\"\\t{predicted}%\")\n"
   ]
  },
  {
   "cell_type": "markdown",
   "metadata": {},
   "source": [
    "And how about we try to observe this for ourselves with brute force? We generate 100 bags of cookies, using the probabilities detailed above, and we keep track of the proportion of ♡-shaped cookies of each bag."
   ]
  },
  {
   "cell_type": "code",
   "execution_count": 6,
   "metadata": {},
   "outputs": [
    {
     "name": "stdout",
     "output_type": "stream",
     "text": [
      "0.2 0.28 0.16 0.2 0.16 0.28 0.28 0.24 0.24 0.32 0.2 0.2 0.08 0.2 0.16 0.24 0.24 0.24 0.24 0.16 0.12 0.2 0.24 0.16 0.36 0.32 0.12 0.16 0.2 0.36 0.2 0.2 0.32 0.2 0.28 0.12 0.36 0.2 0.2 0.16 0.2 0.2 0.16 0.28 0.28 0.44 0.32 0.16 0.24 0.24 0.2 0.24 0.12 0.4 0.32 0.16 0.16 0.2 0.32 0.24 0.16 0.24 0.32 0.28 0.36 0.2 0.32 0.08 0.2 0.16 0.16 0.36 0.16 0.32 0.16 0.16 0.16 0.32 0.36 0.24 0.16 0.2 0.2 0.56 0.24 0.16 0.2 0.16 0.4 0.28 0.24 0.36 0.32 0.24 0.4 0.16 0.28 0.28 0.24 0.12 0.16 0.28 0.32 0.28 0.32 0.24 0.2 0.12 0.36 0.2 0.28 0.24 0.12 0.24 0.16 0.32 0.32 0.16 0.28 0.12 0.16 0.28 0.32 0.28 0.16 0.32 0.32 0.32 0.16 0.24 0.24 0.16 0.24 0.28 0.4 0.4 0.32 0.28 0.12 0.28 0.36 0.4 0.28 0.12 0.16 0.28 0.24 0.32 0.32 0.4 0.36 0.28 0.4 0.28 0.28 0.24 0.32 0.2 0.24 0.36 0.08 0.24 0.28 0.24 0.28 0.2 0.48 0.16 0.08 0.2 0.4 0.24 0.24 0.16 0.36 0.08 0.24 0.16 0.4 0.36 0.16 0.28 0.32 0.32 0.08 0.36 0.32 0.16 0.28 0.28 0.2 0.2 0.2 0.12 0.28 0.28 0.28 0.28 0.12 0.48 0.24 0.32 0.16 0.2 0.24 0.48 0.24 0.2 0.28 0.08 0.16 0.32 0.28 0.28 0.28 0.2 0.2 0.2 0.12 0.2 0.28 0.28 0.28 0.12 0.32 0.28 0.24 0.36 0.28 0.04 0.2 0.24 0.16 0.32 0.16 0.24 0.16 0.32 0.16 0.28 0.12 0.4 0.24 0.16 0.24 0.44 0.32 0.16 0.32 0.28 0.32 0.24 0.16 0.4 0.2 0.32 0.4 0.16 0.12 0.44 0.32 0.28 0.24 0.4 0.24 0.32 0.28 0.24 0.32 0.2 0.16 0.08 0.16 0.36 0.28 0.28 0.2 0.32 0.16 0.32 0.2 0.12 0.32 0.36 0.24 0.28 0.24 0.24 0.2 0.28 0.24 0.2 0.28 0.32 0.32 0.08 0.24 0.28 0.04 0.08 0.2 0.16 0.28 0.16 0.24 0.24 0.32 0.24 0.24 0.24 0.28 0.2 0.28 0.28 0.32 0.24 0.24 0.2 0.08 0.16 0.2 0.16 0.16 0.2 0.32 0.16 0.24 0.28 0.16 0.28 0.32 0.24 0.16 0.36 0.28 0.16 0.2 0.2 0.16 0.16 0.2 0.24 0.16 0.36 0.36 0.28 0.28 0.32 0.16 0.32 0.16 0.28 0.4 0.44 0.32 0.16 0.28 0.2 0.24 0.2 0.28 0.32 0.28 0.4 0.28 0.28 0.2 0.24 0.32 0.24 0.12 0.2 0.28 0.28 0.16 0.28 0.24 0.2 0.16 0.24 0.24 0.28 0.32 0.4 0.12 0.12 0.24 0.32 0.2 0.24 0.24 0.2 0.36 0.28 0.28 0.28 0.28 0.16 0.16 0.2 0.24 0.28 0.2 0.24 0.24 0.36 0.16 0.24 0.2 0.32 0.2 0.28 0.24 0.28 0.32 0.4 0.24 0.36 0.24 0.32 0.28 0.2 0.36 0.2 0.24 0.16 0.32 0.12 0.08 0.16 0.24 0.28 0.2 0.24 0.24 0.32 0.16 0.24 0.16 0.28 0.28 0.36 0.2 0.2 0.2 0.44 0.28 0.36 0.36 0.32 0.36 0.24 0.24 0.36 0.24 0.24 0.36 0.28 0.16 0.4 0.24 0.32 0.2 0.28 0.24 0.24 0.28 0.36 0.32 0.36 0.28 0.08 0.2 0.28 0.2 0.2 0.28 0.32 0.32 0.16 0.12 0.2 0.32 0.16 0.32 0.28 0.16 0.12 0.16 0.4 0.2 0.24 0.24 0.32 0.16 0.16 0.24 0.24 0.08 0.24 0.12 0.32 0.24 0.16 0.2 0.24 0.24 0.2 0.4 0.2 0.16 0.12 0.2 0.28 0.04 0.32 0.24 0.2 0.36 0.36 0.08 0.12 0.48 0.12 0.12 0.32 0.44 0.16 0.2 0.32 0.32 0.4 0.28 0.16 0.4 0.12 0.2 0.32 0.12 0.28 0.04 0.2 0.12 0.2 0.12 0.32 0.36 0.24 0.28 0.2 0.2 0.32 0.24 0.16 0.08 0.36 0.36 0.2 0.24 0.16 0.16 0.32 0.28 0.24 0.32 0.2 0.24 0.2 0.28 0.2 0.28 0.16 0.2 0.28 0.28 0.4 0.2 0.28 0.28 0.36 0.2 0.32 0.36 0.24 0.2 0.24 0.24 0.32 0.32 0.24 0.28 0.28 0.12 0.12 0.32 0.16 0.24 0.28 0.28 0.28 0.16 0.36 0.44 0.24 0.2 0.12 0.32 0.12 0.16 0.24 0.12 0.32 0.24 0.12 0.24 0.2 0.36 0.2 0.12 0.12 0.4 0.32 0.12 0.24 0.2 0.48 0.36 0.16 0.16 0.16 0.16 0.24 0.36 0.08 0.32 0.32 0.28 0.2 0.24 0.36 0.28 0.32 0.24 0.16 0.24 0.12 0.24 0.36 0.2 0.16 0.36 0.2 0.32 0.32 0.16 0.24 0.28 0.28 0.28 0.2 0.12 0.48 0.24 0.24 0.2 0.24 0.28 0.28 0.2 0.28 0.16 0.32 0.08 0.24 0.2 0.2 0.28 0.36 0.36 0.36 0.2 0.44 0.24 0.32 0.32 0.2 0.48 0.2 0.36 0.2 0.24 0.28 0.44 0.08 0.2 0.2 0.12 0.24 0.2 0.32 0.32 0.28 0.4 0.2 0.48 0.4 0.24 0.4 0.08 0.36 0.4 0.28 0.32 0.2 0.32 0.36 0.36 0.16 0.12 0.24 0.08 0.24 0.28 0.28 0.44 0.28 0.16 0.32 0.28 0.08 0.2 0.24 0.12 0.32 0.4 0.32 0.32 0.04 0.28 0.2 0.28 0.24 0.28 0.48 0.16 0.28 0.4 0.24 0.24 0.36 0.24 0.2 0.08 0.32 0.16 0.32 0.2 0.32 0.28 0.2 0.32 0.24 0.2 0.2 0.12 0.16 0.24 0.36 0.36 0.32 0.4 0.2 0.36 0.16 0.32 0.24 0.4 0.28 0.24 0.04 0.24 0.16 0.16 0.24 0.2 0.16 0.28 0.12 0.12 0.36 0.12 0.12 0.28 0.16 0.2 0.24 0.32 0.16 0.16 0.16 0.28 0.16 0.36 0.24 0.2 0.24 0.2 0.36 0.32 0.32 0.16 0.24 0.2 0.2 0.16 0.36 0.32 0.16 0.24 0.12 0.2 0.2 0.2 0.36 0.32 0.2 0.16 0.24 0.2 0.16 0.2 0.32 0.4 0.24 0.2 0.32 0.28 0.24 0.24 0.4 0.16 0.28 0.16 0.24 0.36 0.16 0.28 0.4 0.16 0.24 0.24 0.16 0.16 0.24 0.08 0.32 0.08 0.2 0.16 0.24 0.24 0.32 0.24 0.16 0.28 0.28 0.2 0.24 0.24 0.08 0.24 0.32 0.28 0.12 0.12 0.2 0.36 0.32 0.24 0.12 0.2 0.24 0.28 0.32 0.2 0.32 0.16 0.12 0.28 0.16 0.24 0.36 0.4 0.28 0.12 0.32 0.28 0.28 0.2 0.28 0.28 0.16 0.16 0.36 0.16 0.36 0.2 0.12 0.32 0.2 0.2 0.36 0.24 0.24 0.16 0.2 0.32 0.2 0.12 0.16 0.16 0.32 0.32 0.2 0.32 0.32 0.28 0.16 0.08 0.16 0.4 0.2 0.28 0.24 0.2 0.28 0.24 0.2 0.2 0.4 0.24 0.44 0.24 0.24 0.2 0.12 0.2 0.28 0.44 0.12 0.28 0.32 0.32 0.24 0.24 0.28 0.2 0.28 0.12 0.2 0.36 0.24 0.4 0.2 0.36 0.24 0.28 0.16 0.36 0.2 0.16 0.24 0.12 0.2 0.2 0.16 0.28 0.36 0.4 0.24 0.16 0.36 0.36 0.16 0.24 0.28 0.24 0.4 0.2 0.12 0.24 0.28 0.24 0.12 0.24 0.36 0.16 0.2 0.24 0.24 0.16 0.16 0.28 0.36 0.28 0.12 0.2 0.36 0.28 0.12 0.12 0.2 0.2 0.16 0.24 0.36 0.28 0.32 0.32 0.24 0.24 0 0.24 0.24 0 0.28 0.24 0.28 0.08 0.2 0.16 0.28 0.36 0.32 0.2 0.16 0.2 0.28 0.16 0.36 0.36 0.28 0.12 0.24 0.28 0.32 0.08 0.28 0.16 0.16 0.16 0.12 0.12 0.08 0.32 0.12 0.44 0.24 0.2 0.24 0.24 0.2 0.24 0.24 0.32 0.24 0.28 0.4 0.32 0.4 0.28 0.36 0.24 0.2 0.28 0.24 0.24 0.28 0.24 0.2 0.2 0.2 0.28 0.24 0.24 0.32 0.28 0.16 0.32 0.16 0.2 0.2 0.16 0.28 0.12 0.2 0.04 0.32 0.24 0.24 0.16 0.4 0.24 0.32 0.28 0.28 0.28 0.2 0.12 0.28 0.24 0.16 0.28 0.28 0.12 0.2 0.2 0.2 0.24 0.2 0.28 0.16 0.12 0.36 0.28 0.32 0.12 0.2 0.28 0.2 0.12 0.36 0.36 0.24 0.24 0.28 0.2 0.2 0.36 0.12 0.24 0.2 0.32 0.28 0.28 0.2 0.24 0.32 0.24 0.2 0.16 0.12 0.36 0.2 0.2 0.16 0.32 0.24 0.16 0.2 0.2 0.04 0.24 0.12 0.2 0.28 0.28 0.2 0.4 0.24 0.2 0.24 0.24 0.2 0.16 0.28 0.12 0.24 0.36 0.32 0.28 0.2 0.24 0.32 0.12 0.12 0.16 0.2 0.28 0.36 0.24 0.2 0.08 0.28 0.24 0.28 0.32 0.36 0.2 0.24 0.16 0.4 0.32 0.24 0.24 0.28 0.32 0.12 0.44 0.28 0.16 0.24 0.36 0.2 0.2 0.28 0.24 0.28 0.2 0.4 0.24 0.28 0.24 0.28 0.2 0.32 0.08 0.16 0.28 0.16 0.12 0.52 0.16 0.32 0.16 0.2 0.24 0.28 0.04 0.2 0.24 0.24 0.12 0.24 0.08 0.24 0.16 0.12 0.4 0.2 0.2 0.36 0.16 0.24 0.28 0.28 0.32 0.2 0.16 0.16 0.28 0.36 0.16 0.24 0.16 0.08 0.2 0.28 0.16 0.16 0.4 0.32 0.4 0.04 0.2 0.16 0.08 0.16 0.32 0.36 0.24 0.16 0.28 0.28 0.28 0.32 0.12 0.32 0.4 0.24 0.4 0.2 0.32 0.32 0.12 0.56 0.32 0.24 0.48 0.16 0.2 0.32 0.36 0.24 0.28 0.32 0.28 0.32 0.36 0.28 0.4 0.12 0.08 0.2 0.16 0.24 0.32 0.24 0.28 0.16 0.36 0.16 0.32 0.24 0.44 0.24 0.32 0.32 0.4 0.28 0.2 0.28 0.24 0.28 0.16 0.32 0.24 0.28 0.36 0.24 0.2 0.36 0.28 0.32 0.2 0.24 0.28 0.24 0.28 0.28 0.4 0.24 0.24 0.24 0.48 0.12 0.28 0.52 0.28 0.28 0.16 0.16 0.28 0.16 0.16 0.2 0.12 0.24 0.32 0.24 0.24 0.24 0.32 0.32 0.4 0.16 0.24 0.2 0.4 0.24 0.32 0.12 0.2 0.24 0.48 0.2 0.2 0.36 0.12 0.28 0.36 0.32 0.16 0.28 0.36 0.2 0.24 0.2 0.08 0.16 0.32 0.16 0.36 0.28 0.44 0.32 0.16 0.2 0.28 0.32 0.4 0.2 0.28 0.16 0.2 0.36 0.24 0.16 0.12 0.2 0.28 0.36 0.2 0.2 0.32 0.12 0.24 0.32 0.4 0.24 0.24 0.28 0.16 0.36 0.2 0.24 0.2 0.16 0.24 0.32 0.24 0.28 0.44 0.28 0.28 0.24 0.28 0.16 0.56 0.12 0.28 0.28 0.24 0.16 0.28 0.12 0.16 0.36 0.24 0.16 0.2 0.16 0.2 0.16 0.12 0.2 0.12 0.32 0.2 0.24 0.28 0.28 0.2 0.08 0.24 0.28 0.4 0.4 0.32 0.28 0.28 0.2 0.12 0.28 0.08 0.24 0.24 0.24 0.28 0.32 0.12 0.16 0.16 0.36 0.24 0.24 0.16 0.32 0.2 0.32 0.12 0.2 0.16 0.24 0.36 0.24 0.28 0.24 0.16 0.16 0.12 0.24 0.24 0.28 0.16 0.28 0.24 0.2 0.48 0.12 0.2 0.2 0.4 0.2 0.2 0.2 0.4 0.36 0.2 0.32 0.08 0.4 0.32 0.32 0.28 0.28 0.36 0.12 0.32 0.2 0.2 0.2 0.04 0.2 0.24 0.24 0.36 0.36 0.2 0.2 0.36 0.36 0.56 0.24 0.32 0.28 0.16 0.2 0.16 0.24 0.2 0.24 0.24 0.24 0.28 0.16 0.08 0.2 0.24 0.32 0.12 0.28 0.24 0.16 0.28 0.08 0.24 0.16 0.28 0.44 0.16 0.2 0.2 0.28 0.24 0.24 0.2 0.2 0.36 0.2 0.2 0.2 0.32 0.16 0.28 0.32 0.32 0.28 0.24 0.4 0.44 0.16 0.16 0.2 0.24 0.32 0.16 0.24 0.48 0.16 0.32 0.24 0.28 0.28 0.16 0.36 0.4 0.16 0.08 0.28 0.32 0.24 0.32 0.24 0.32 0.32 0.36 0.12 0.2 0.24 0.2 0.24 0.2 0.24 0.24 0.32 0.2 0.28 0.44 0.2 0.2 0.36 0.2 0.28 0.36 0.32 0.08 0.24 0.2 0.24 0.28 0.16 0.32 0.28 0.12 0.16 0.2 0.24 0.36 0.2 0.32 0.24 0.32 0.32 0.12 0.24 0.32 0.28 0.2 0.2 0.24 0.32 0.24 0.2 0.32 0.24 0.2 0.16 0.28 0.12 0.24 0.16 0.32 0.24 0.28 0.12 0.24 0.24 0.2 0.24 0.28 0.28 0.4 0.16 0.12 0.24 0.36 0.28 0.2 0.24 0.24 0.08 0.32 0.24 0.2 0.28 0.08 0.2 0.2 0.28 0.24 0.2 0.24 0.24 0.36 0.16 0.12 0.28 0.24 0.24 0.24 0.2 0.2 0.28 0.4 0.4 0.28 0.32 0.48 0.12 0.24 0.28 0.32 0.32 0.4 0.12 0.24 0.2 0.16 0.44 0.12 0.32 0.16 0.12 0.36 0.36 0.2 0.24 0.2 0.32 0.32 0.24 0.24 0.44 0.24 0.2 0.2 0.2 0.24 0.32 0.28 0.2 0.32 0.28 0.28 0.24 0.24 0.24 0.24 0.24 0.4 0.2 0.2 0.36 0.2 0.12 0.36 0.2 0.32 0.12 0.24 0.4 0.36 0.16 0.24 0.16 0.2 0.24 0.36 0.24 0.16 0.16 0.28 0.12 0.32 0.24 0.2 0.16 0.2 0.16 0.2 0.32 0.16 0.2 0.2 0.28 0.2 0.24 0.24 0.36 0.04 0.24 0.28 0.36 0.2 0.36 0.4 0.36 0.28 0.2 0.44 0.24 0.28 0.12 0.44 0.2 0.28 0.28 0.2 0.24 0.32 0.44 0.28 0.12 0.24 0.28 0.2 0.16 0.2 0.28 0.44 0.24 0.24 0.24 0.24 0.2 0.24 0.32 0.36 0.32 0.28 0.2 0.28 0.2 0.24 0.24 0.16 0.16 0.28 0.2 0.2 0.2 0.2 0.32 0.32 0.48 0.32 0.24 0.2 0.12 0.36 0.2 0.12 0.16 0.28 0.28 0.48 0.32 0.28 0.32 0.2 0.16 0.2 0.28 0.2 0.2 0.24 0.2 0.28 0.12 0.28 0.4 0.28 0.2 0.12 0.28 0.16 0.16 0.2 0.4 0.32 0.28 0.52 0.32 0.2 0.32 0.28 0.24 0.12 0.2 0.2 0.32 0.24 0.28 0.4 0.4 0.2 0.28 0.28 0.24 0.2 0.24 0.32 0.16 0.24 0.28 0.24 0.2 0.24 0.28 0.32 0.32 0.12 0.28 0.28 0.32 0.4 0.16 0.16 0.36 0.28 0.16 0.28 0.16 0.2 0.36 0.2 0.16 0.24 0.2 0.32 0.28 0.36 0.24 0.24 0.32 0.2 0.2 0.04 0.4 0.16 0.16 0.28 0.08 0.32 0.16 0.32 0.36 0.2 0.2 0.24 0.36 0.2 0.36 0.2 0.44 0.08 0.28 0.28 0.16 0.24 0.32 0.28 0.32 0.44 0.32 0.28 0.32 0.4 0.28 0.36 0.28 0.32 0.2 0.36 0.12 0.4 0.36 0.2 0.52 0.24 0.32 0.2 0.2 0.04 0.28 0.2 0.32 0.2 0.4 0.4 0.32 0.12 0.24 0.36 0.2 0.24 0.24 0.24 0.16 0.16 0.08 0.24 0.2 0.24 0.16 0.2 0.32 0.28 0.24 0.28 0.28 0.28 0.2 0.28 0.2 0.24 0.12 0.4 0.36 0.2 0.32 0.2 0.24 0.36 0.12 0.2 0.32 0.2 0.16 0.32 0.24 0.36 0.36 0.04 0.16 0.32 0.12 0.2 0.24 0.36 0.24 0.2 0.36 0.28 0.24 0.28 0.36 0.24 0.16 0.32 0.24 0.44 0.24 0.28 0.28 0.24 0.32 0.16 0.28 0.24 0.16 0.12 0.16 0.32 0.12 0.28 0.16 0.48 0.24 0.12 0.28 0.4 0.36 0.16 0.12 0.2 0.24 0.12 0.28 0.16 0.08 0.24 0.2 0.08 0.24 0.2 0.2 0.24 0.28 0.28 0.32 0.2 0.32 0.12 0.28 0.28 0.28 0.2 0.28 0.2 0.12 0.12 0.28 0.2 0.2 0.24 0.36 0.16 0.4 0.24 0.32 0.2 0.12 0.36 0.2 0.28 0.2 0.36 0.12 0.28 0.28 0.24 0.2 0.12 0.24 0.08 0.2 0.24 0.28 0.24 0.12 0.24 0.24 0.2 0.36 0.32 0.12 0.2 0.32 0.12 0.12 0.28 0.36 0.28 0.28 0.2 0.32 0.2 0.24 0.36 0.28 0.12 0.24 0.2 0.32 0.2 0.28 0.28 0.4 0.44 0.24 0.2 0.2 0.36 0.24 0.24 0.2 0.2 0.24 0.24 0.24 0.32 0.24 0.44 0.36 0.36 0.2 0.32 0.44 0.24 0.16 0.24 0.32 0.2 0.28 0.4 0.16 0.32 0.12 0.16 0.24 0.28 0.24 0.24 0.2 0.24 0.24 0.2 0.32 0.16 0.32 0.24 0.16 0.28 0.28 0.28 0.24 0.28 0.4 0.28 0.2 0.32 0.12 0.16 0.36 0.12 0.2 0.28 0.16 0.12 0.44 0.2 0.36 0.08 0.16 0.2 0.28 0.28 0.32 0 0.2 0.2 0.24 0.32 0.36 0.28 0.32 0.4 0.16 0.24 0.2 0.2 0.32 0.28 0.2 0.28 0.12 0.36 0.24 0.16 0.28 0.32 0.2 0.04 0.32 0.08 0.16 0.24 0.2 0.16 0.12 0.16 0.16 0.24 0.48 0.12 0.28 0.28 0.48 0.28 0.16 0.24 0.24 0.04 0.08 0.2 0.12 0.24 0.36 0.16 0.16 0.32 0.2 0.36 0.28 0.24 0.28 0.2 0.16 0.08 0.2 0.24 0.2 0.2 0.12 0.2 0.32 0.4 0.28 0.2 0.2 0.4 0.24 0.2 0.28 0.44 0.24 0.16 0.32 0.2 0.16 0.24 0.24 0.16 0.36 0.16 0.24 0.16 0.28 0.36 0.16 0.28 0.24 0.28 0.32 0.36 0.32 0.2 0.24 0.36 0.16 0.28 0.36 0.2 0.2 0.32 0.16 0.24 0.16 0.28 0.32 0.36 0.32 0.4 0.28 0.32 0.2 0.32 0.2 0.28 0.2 0.16 0.16 0.24 0.24 0.24 0.28 0.16 0.48 0.28 0.2 0.16 0.28 0.24 0.28 0.32 0.28 0.08 0.28 0.36 0.32 0.32 0.16 0.28 0.28 0.2 0.2 0.16 0.44 0.2 0.16 0.32 0.2 0.16 0.08 0.2 0.2 0.16 0.28 0.24 0.28 0.32 0.32 0.36 0.12 0.2 0.12 0.2 0.24 0.24 0.28 0.28 0.2 0.24 0.24 0.32 0.2 0.24 0.12 0.24 0.2 0.28 0.2 0.32 0.28 0.44 0.36 0.24 0.16 0.12 0.24 0.2 0.24 0.28 0.2 0.32 0.28 0.36 0.16 0.24 0.4 0.2 0.12 0.24 0.28 0.28 0.32 0.32 0.28 0.12 0.28 0.16 0.16 0.24 0.16 0.4 0.12 0.36 0.2 0.2 0.2 0.16 0.36 0.24 0.36 0.12 0.36 0.32 0.2 0.24 0.24 0.24 0.16 0.16 0.16 0.16 0.24 0.28 0.32 0.24 0.32 0.24 0.28 0.28 0.24 0.36 0.36 0.16 0.2 0.16 0.2 0.04 0.24 0.2 0.2 0.2 0.44 0.28 0.24 0.2 0.28 0.28 0.36 0.24 0.2 0.08 0.28 0.12 0.16 0.28 0.32 0.28 0.28 0.2 0.24 0.36 0.36 0.12 0.28 0.32 0.16 0.4 0.36 0.28 0.16 0.12 0.24 0.2 0.24 0.28 0.32 0.24 0.24 0.4 0.32 0.32 0.2 0.08 0.4 0.32 0.2 0.16 0.32 0.32 0.28 0.28 0.28 0.36 0.16 0.32 0.08 0.28 0.24 0.32 0.28 0.28 0.32 0.28 0.24 0.12 0.32 0.32 0.08 0.2 0.28 0.2 0.24 0.24 0.2 0.16 0.24 0.24 0.16 0.24 0.16 0.2 0.28 0.28 0.4 0.2 0.08 0.2 0.32 0.24 0.24 0.2 0.24 0.12 0.16 0.24 0.2 0.28 0.16 0.2 0.36 0.24 0.24 0.32 0.12 0.16 0.36 0.08 0.24 0.32 0.2 0.32 0.2 0.32 0.16 0.28 0.24 0.44 0.32 0.28 0.32 0.2 0.24 0.28 0.28 0.08 0.24 0.04 0.2 0.08 0.12 0.44 0.12 0.24 0.36 0.24 0.44 0.28 0.28 0.28 0.28 0.24 0.24 0.16 0.28 0.4 0.28 0.2 0.16 0.12 0.4 0.28 0.32 0.4 0.16 0.36 0.12 0.28 0.24 0.2 0.2 0.2 0.2 0.28 0.24 0.24 0.2 0.2 0.28 0.4 0.28 0.16 0.32 0.28 0.2 0.36 0.2 0.32 0.32 0.16 0.24 0.28 0.36 0.2 0.48 0.16 0.24 0.28 0.24 0.08 0.16 0.28 0.24 0.2 0.28 0.28 0.24 0.24 0.24 0.28 0.32 0.4 0.08 0.44 0.16 0.32 0.28 0.16 0.28 0.4 0.16 0.12 0.2 0.32 0.24 0.36 0.2 0.4 0.28 0.08 0.28 0.08 0.12 0.36 0.36 0.2 0.32 0.2 0.28 0.2 0.28 0.24 0.32 0.4 0.16 0.4 0.32 0.32 0.32 0.36 0.28 0.2 0.4 0.28 0.24 0.4 0.24 0.28 0.4 0.36 0.2 0.16 0.32 0.12 0.44 0.28 0.2 0.24 0.32 0.24 0.16 0.12 0.16 0.24 0.32 0.4 0.2 0.24 0.04 0.24 0.28 0.28 0.12 0.28 0.32 0.2 0.32 0.4 0.28 0.2 0.24 0.2 0.28 0.36 0.28 0.28 0.2 0.36 0.36 0.12 0.2 0.36 0.32 0.16 0.28 0.36 0.2 0.32 0.4 0.16 0.32 0.24 0.12 0.44 0.16 0.44 0.24 0.36 0.08 0.28 0.28 0.2 0.28 0.28 0.16 0.24 0.16 0.32 0.28 0.44 0.28 0.28 0.28 0.08 0.16 0.56 0.28 0.28 0.44 0.2 0.32 0.32 0.12 0.28 0.4 0.32 0.32 0.36 0.08 0.16 0.2 0.16 0.12 0.36 0.32 0.32 0.2 0.2 0.28 0.16 0.16 0.2 0.28 0.24 0.32 0.28 0.28 0.36 0.28 0.16 0.16 0.2 0.48 0.24 0.28 0.32 0.2 0.28 0.36 0.24 0.28 0.12 0.28 0.12 0.28 0.16 0.24 0.32 0.2 0.36 0.24 0.28 0.36 0.28 0.28 0.28 0.24 0.24 0.16 0.24 0.32 0.4 0.36 0.4 0.2 0.24 0.16 0.28 0.28 0.36 0.32 0.24 0.28 0.24 0.32 0.24 0.48 0.32 0.16 0.32 0.28 0.16 0.12 0.32 0.32 0.32 0.28 0.24 0.28 0.16 0.2 0.24 0.28 0.2 0.36 0.28 0.28 0.28 0.16 0.16 0.44 0.24 0.16 0.36 0.08 0.24 0.24 0.36 0.36 0.16 0.28 0.24 0.16 0.2 0.12 0.4 0.12 0.08 0.16 0.24 0.12 0.12 0.24 0.24 0.24 0.2 0.28 0.28 0.36 0.2 0.28 0.16 0.16 0.2 0.48 0.16 0.32 0.2 0.24 0.24 0.28 0.28 0.2 0.08 0.24 0.2 0.2 0.24 0.24 0.16 0.4 0.32 0.28 0.44 0.32 0.2 0.12 0.12 0.16 0.28 0.12 0.4 0.2 0.2 0.24 0.24 0.16 0.24 0.28 0.36 0.28 0.24 0.24 0.24 0.2 0.2 0.24 0.28 0.16 0.12 0.36 0.2 0.28 0.24 0.16 0.2 0.24 0.28 0.36 0.36 0.2 0.28 0.12 0.24 0.2 0.2 0.28 0.16 0.4 0.2 0.24 0.24 0.16 0.28 0.2 0.32 0.16 0.16 0.16 0.32 0.16 0.2 0.2 0.28 0.36 0.12 0.2 0.24 0.28 0.2 0.2 0.36 0.28 0.16 0.36 0.2 0.28 0.2 0.12 0.16 0.44 0.16 0.44 0.24 0.04 0.24 0.24 0.16 0.32 0.16 0.16 0.2 0.08 0.24 0.24 0.28 0.4 0.28 0.24 0.32 0.12 0.32 0.36 0.32 0.08 0.32 0.08 0.24 0.08 0.28 0.08 0.24 0.36 0.2 0.12 0.2 0.36 0.24 0.36 0.16 0.24 0.2 0.28 0.2 0.12 0.24 0.12 0.16 0.24 0.28 0.24 0.24 0.2 0.2 0.32 0.12 0.24 0.16 0.28 0.08 0.16 0.16 0.24 0.2 0.28 0.16 0.24 0.24 0.32 0.2 0.32 0.2 0.28 0.28 0.28 0.32 0.12 0.28 0.32 0.24 0.16 0.32 0.2 0.2 0.2 0.24 0.16 0.2 0.2 0.16 0.24 0.2 0.2 0.32 0.2 0.2 0.16 0.2 0.24 0.24 0.24 0.32 0.28 0.4 0.32 0.32 0.36 0.24 0.32 0.2 0.28 0.24 0.24 0.28 0.32 0.28 0.16 0.28 0.32 0.12 0.24 0.4 0.28 0.28 0.2 0.32 0.2 0.2 0.16 0.12 0.16 0.24 0.36 0.16 0.16 0.36 0.4 0.44 0.28 0.44 0.36 0.16 0.2 0.36 0.2 0.24 0.28 0.28 0.28 0.24 0.12 0.24 0.16 0.32 0.32 0.16 0.24 0.24 0.4 0.16 0.2 0.2 0.32 0.16 0.28 0.2 0.16 0.32 0.04 0.24 0.24 0.12 0.32 0.44 0.16 0.2 0.2 0.2 0.32 0.44 0.32 0.28 0.36 0.16 0.2 0.28 0.16 0.44 0.28 0.24 0.16 0.2 0.16 0.16 0.24 0.44 0.28 0.4 0.32 0.12 0.32 0.48 0.16 0.2 0.2 0.12 0.28 0.2 0.08 0.12 0.24 0.36 0.16 0.12 0.28 0.2 0.36 0.2 0.28 0.2 0.2 0.32 0.24 0.36 0.2 0.4 0.2 0.28 0.2 0.2 0.2 0.28 0.16 0.24 0.2 0.2 0.36 0.2 0.4 0.16 0.12 0.36 0.32 0.12 0.24 0.24 0.12 0.32 0.16 0.12 0.36 0.32 0.4 0.44 0.28 0.36 0.24 0.2 0.12 0.2 0.24 0.16 0.24 0.12 0.28 0.32 0.28 0.2 0.2 0.16 0.28 0.16 0.2 0.32 0.28 0.36 0.24 0.2 0.32 0.32 0.24 0.28 0.2 0.24 0.16 0.36 0.28 0.2 0.28 0.28 0.24 0.24 0.2 0.32 0.12 0.28 0.24 0.28 0.44 0.2 0.28 0.24 0.2 0.24 0.16 0.28 0.28 0.24 0.28 0.12 0.36 0.28 0.32 0.16 0.2 0.28 0.48 0.36 0.2 0.08 0.36 0.36 0.28 0.24 0.32 0.24 0.2 0.2 0.24 0.08 0.12 0.2 0.16 0.28 0.2 0.2 0.16 0.16 0.16 0.16 0.16 0.2 0.2 0.2 0.36 0.2 0.44 0.32 0.24 0.24 0.32 0.2 0.2 0.24 0.32 0.12 0.24 0.2 0.24 0.24 0.32 0.2 0.44 0.2 0.32 0.24 0.28 0.24 0.28 0.28 0.32 0.36 0.16 0.16 0.28 0.52 0.12 0.28 0.28 0.24 0.12 0.12 0.28 0.2 0.44 0.36 0.2 0.16 0.44 0.16 0.2 0.36 0.2 0.32 0.12 0.32 0.24 0.12 0.28 0.2 0.4 0.2 0.24 0.24 0.32 0.28 0.16 0.12 0.08 0.16 0.16 0.24 0.08 0.12 0.2 0.28 0.12 0.28 0.2 0.24 0.2 0.2 0.2 0.28 0.36 0.2 0.2 0.32 0.28 0.16 0.28 0.12 0.36 0.36 0.2 0.28 0.16 0.16 0.2 0.12 0.2 0.2 0.36 0.32 0.12 0.16 0.24 0.24 0.4 0.12 0.12 0.16 0.12 0.12 0.32 0.32 0.12 0.52 0.24 0.2 0.28 0.28 0.12 0.16 0.28 0.32 0.44 0.36 0.36 0.16 0.2 0.36 0.24 0.16 0.36 0.12 0.48 0.28 0.28 0.2 0.2 0.24 0.24 0.2 0.32 0.16 0.36 0.28 0.24 0.08 0.28 0.44 0.2 0.2 0.2 0.32 0.28 0.2 0.28 0.24 0.32 0.28 0.28 0.32 0.28 0.2 0.16 0.24 0.24 0.2 0.28 0.32 0.24 0.12 0.16 0.2 0.12 0.16 0.16 0.24 0.36 0.36 0.32 0.2 0.12 0.2 0.12 0.32 0.24 0.28 0.28 0.12 0.24 0.32 0.28 0.16 0.28 0.32 0.24 0.44 0.36 0.28 0.36 0.28 0.24 0.36 0.28 0.32 0.32 0.32 0.2 0.24 0.28 0.24 0.36 0.12 0.24 0.2 0.36 0.32 0.32 0.32 0.32 0.24 0.32 0.28 0.2 0.32 0.2 0.56 0.16 0.4 0.16 0.28 0.32 0.32 0.2 0.24 0.2 0.16 0.32 0.36 0.2 0.28 0.2 0.28 0.32 0.36 0.36 0.32 0.28 0.08 0.28 0.24 0.12 0.4 0.32 0.28 0.24 0.28 0.28 0.28 0.24 0.24 0.28 0.24 0.28 0.16 0.28 0.16 0.32 0.32 0.24 0.24 0.32 0.16 0.16 0.44 0.2 0.24 0.32 0.28 0.32 0.2 0.2 0.52 0.32 0.28 0.48 0.12 0.12 0.28 0.36 0.28 0.36 0.16 0.2 0.28 0.28 0.24 0.28 0.32 0.24 0.28 0.24 0.36 0.28 0.24 0.16 0.28 0.36 0.36 0.24 0.28 0.32 0.28 0.2 0.32 0.28 0.32 0.2 0.24 0.12 0.28 0.12 0.24 0.48 0.2 0.16 0.24 0.36 0.24 0.24 0.2 0.24 0.32 0.08 0.08 0.28 0.12 0.44 0.32 0.2 0.28 0.2 0.32 0.24 0.12 0.24 0.16 0.12 0.4 0.2 0.36 0.16 0.32 0.36 0.32 0.24 0.32 0.16 0.32 0.2 0.28 0.2 0.2 0.24 0.4 0.24 0.32 0.4 0.32 0.32 0.24 0.28 0.16 0.2 0.24 0.4 0.28 0.36 0.2 0.08 0.12 0.2 0.36 0.24 0.16 0.16 0.24 0.16 0.16 0.12 0.36 0.32 0.44 0.32 0.2 0.4 0.16 0.16 0.24 0.24 0.28 0.16 0.24 0.12 0.2 0.08 0.12 0.24 0.36 0.28 0.32 0.32 0.2 0.16 0.32 0.2 0.36 0.12 0.16 0.28 0.2 0.2 0.24 0.12 0.4 0.32 0.36 0.2 0.12 0.2 0.24 0.2 0.32 0.4 0.32 0.2 0.28 0.08 0.2 0.08 0.28 0.2 0.36 0.36 0.32 0.36 0.24 0.24 0.36 0.2 0.2 0.32 0.28 0.24 0.24 0.32 0.24 0.08 0.2 0.32 0.36 0.28 0.2 0.2 0.2 0.24 0.32 0.16 0.24 0.4 0.28 0.12 0.24 0.28 0.28 0.52 0.2 0.2 0.12 0.16 0.24 0.28 0.12 0.2 0.2 0.08 0.2 0.32 0.4 0.28 0.44 0.28 0.2 0.16 0.16 0.2 0.36 0.16 0.2 0.44 0.16 0.24 0.28 0.12 0.2 0.32 0.2 0.2 0.16 0.24 0.2 0.28 0.24 0.28 0.12 0.2 0.12 0.28 0.36 0.2 0.28 0.4 0.12 0.28 0.32 0.2 0.16 0.36 0.12 0.2 0.2 0.36 0.24 0.16 0.28 0.28 0.36 0.36 0.2 0.28 0.36 0.16 0.36 0.12 0.32 0.2 0.24 0.24 0.12 0.2 0.16 0.24 0.2 0.24 0.2 0.28 0.12 0.16 0.12 0.12 0.2 0.32 0.28 0.2 0.36 0.08 0.24 0.36 0.32 0.4 0.2 0.32 0.12 0.32 0.32 0.32 0.44 0.4 0.2 0.24 0.12 0.16 0.24 0.12 0.24 0.24 0.4 0.24 0.24 0.28 0.12 0.16 0.28 0.2 0.28 0.24 0.24 0.12 0.44 0.28 0.2 0.24 0.2 0.32 0.2 0.12 0.28 0.16 0.12 0.12 0.12 0.28 0.36 0.24 0.24 0.24 0.4 0.32 0.2 0.36 0.28 0.24 0.2 0.24 0.12 0.2 0.12 0.12 0.24 0.24 0.36 0.24 0.16 0.32 0.44 0.24 0.2 0.32 0.24 0.16 0.2 0.36 0.28 0.28 0.28 0.28 0.08 0.28 0.48 0.24 0.28 0.24 0.2 0.36 0.16 0.4 0.32 0.24 0.2 0.24 0.24 0.2 0.28 0.36 0.36 0.16 0.2 0.32 0.2 0.24 0.16 0.16 0.32 0.32 0.12 0.2 0.2 0.28 0.36 0.2 0.04 0.4 0.16 0.44 0.12 0.32 0.2 0.2 0.32 0.2 0.16 0.2 0.36 0.2 0.24 0.12 0.32 0.08 0.32 0.16 0.2 0.36 0.24 0.36 0.24 0.2 0.16 0.32 0.4 0.4 0.32 0.28 0.36 0.28 0.32 0.16 0.24 0.2 0.28 0.2 0.2 0.24 0.16 0.28 0.2 0.16 0.24 0.32 0.16 0.24 0.16 0.24 0.12 0.24 0.36 0.32 0.32 0.24 0.2 0.32 0.2 0.32 0.32 0.24 0.32 0.4 0.2 0.4 0.36 0 0.28 0.16 0.28 0.32 0.2 0.16 0.24 0.28 0.24 0.4 0.28 0.2 0.12 0.28 0.28 0.24 0.2 0.12 0.24 0.12 0.2 0.28 0.36 0.36 0.48 0.12 0.12 0.28 0.2 0.24 0.32 0.44 0.2 0.24 0.4 0.24 0.32 0.28 0.24 0.36 0.4 0.32 0.32 0.36 0.2 0.28 0.28 0.24 0.32 0.16 0.2 0.16 0.32 0.2 0.32 0.2 0.12 0.28 0.28 0.08 0.2 0.32 0.24 0.32 0.32 0.24 0.2 0.32 0.16 0.32 0.16 0.28 0.32 0.16 0.2 0.36 0.2 0.28 0.28 0.12 0.24 0.2 0.24 0.16 0.48 0.32 0.24 0.36 0.28 0.16 0.32 0.4 0.08 0.32 0.24 0.32 0.24 0.24 0.32 0.24 0.2 0.24 0.24 0.16 0.24 0.32 0.24 0.24 0.4 0.2 0.44 0.2 0.28 0.2 0.24 0.2 0.32 0.16 0.28 0.28 0.28 0.16 0.2 0.28 0.2 0.2 0.08 0.36 0.2 0.2 0.28 0.28 0.28 0.08 0.32 0.24 0.16 0.28 0.32 0.28 0.4 0.12 0.12 0.32 0.16 0.2 0.24 0.24 0.16 0.2 0.24 0.24 0.24 0.24 0.2 0.2 0.24 0.12 0.32 0.28 0.16 0.24 0.32 0.24 0.16 0.16 0.32 0.28 0.24 0.36 0.16 0.24 0.36 0.2 0.24 0.16 0.24 0.08 0.32 0.24 0.32 0.2 0.24 0.2 0.2 0.16 0.28 0.32 0.28 0.36 0.24 0.44 0.12 0.28 0.36 0.36 0.24 0.24 0.2 0.16 0 0.4 0.16 0.32 0.16 0.28 0.28 0.16 0.28 0.24 0.16 0.24 0.36 0.28 0.16 0.48 0.32 0.16 0.16 0.36 0.28 0.4 0.28 0.28 0.28 0.2 0.28 0.2 0.32 0.12 0.28 0.2 0.32 0.28 0.08 0.16 0.24 0.2 0.16 0.36 0.32 0.36 0.28 0.2 0.24 0.24 0.4 0.16 0.28 0.16 0.12 0.16 0.16 0.32 0.16 0.28 0.4 0.16 0.28 0.36 0.36 0.2 0.32 0.28 0.24 0.24 0.24 0.28 0.16 0.2 0.28 0.28 0.16 0.24 0.32 0.2 0.36 0.32 0.36 0.32 0.16 0.24 0.2 0.2 0.24 0.32 0.16 0.16 0.16 0.24 0.2 0.36 0.28 0.28 0.28 0.2 0.24 0.2 0.08 0.24 0.2 0.12 0.28 0.28 0.4 0.2 0.32 0.32 0.32 0.28 0.32 0.28 0.24 0.32 0.24 0.08 0.2 0.4 0.12 0.24 0.2 0.08 0.36 0.28 0.2 0.2 0.44 0.36 0.16 0.52 0.4 0.24 0.4 0.12 0.16 0.28 0.32 0.24 0.16 0.24 0.32 0.4 0.28 0.32 0.28 0.2 0.16 0.36 0.16 0.32 0.16 0.28 0.32 0.32 0.2 0.32 0.24 0.32 0.28 0.12 0.28 0.32 0.28 0.36 0.32 0.08 0.24 0.16 0.12 0.28 0.24 0.44 0.32 0.16 0.2 0.2 0.24 0.2 0.24 0.28 0.2 0.28 0.24 0.28 0.16 0.24 0.36 0.28 0.32 0.16 0.2 0.16 0.16 0.32 0.16 0.24 0.24 0.16 0.16 0.16 0.24 0.44 0.2 0.28 0.2 0.2 0.16 0.24 0.28 0.16 0.2 0.12 0.28 0.2 0.24 0.32 0.32 0.24 0.28 0.44 0.24 0.12 0.32 0.24 0.16 0.28 0.44 0.28 0.2 0.24 0.24 0.24 0.24 0.24 0.2 0.16 0.44 0.24 0.24 0.36 0.32 0.2 0.28 0.24 0.28 0.28 0.12 0.32 0.32 0.28 0.24 0.24 0.16 0.16 0.32 0.24 0.2 0.28 0.36 0.28 0.24 0.24 0.24 0.36 0.32 0.04 0.08 0.16 0.32 0.2 0.16 0.32 0.32 0.12 0.28 0.24 0.24 0.16 0.12 0.32 0.16 0.16 0.24 0.12 0.24 0.16 0.2 0.32 0.24 0.24 0.2 0.12 0.36 0.24 0.32 0.16 0.12 0.2 0.32 0.16 0.36 0.28 0.32 0.16 0.24 0.28 0.32 0.24 0.44 0.32 0.24 0.16 0.32 0.12 0.28 0.2 0.2 0.24 0.36 0.24 0.32 0.32 0.16 0.2 0.12 0.24 0.28 0.16 0.32 0.2 0.2 0.24 0.2 0.08 0.16 0.24 0.32 0.28 0.2 0.28 0.28 0.12 0.36 0.28 0.24 0.48 0.16 0.24 0.28 0.2 0.16 0.12 0.12 0.2 0.4 0.12 0.2 0.44 0.12 0.2 0.24 0.24 0.24 0.24 0.12 0.2 0.28 0.2 0.12 0.28 0.24 0.32 0.36 0.12 0.36 0.36 0.28 0.2 0.24 0.24 0.36 0.32 0.28 0.4 0.24 0.12 0.24 0.2 0.2 0.24 0.24 0.16 0.28 0.36 0.36 0.2 0.2 0.24 0.52 0.36 0.4 0.16 0.44 0.28 0.28 0.2 0.24 0.2 0.16 0.24 0.16 0.28 0.28 0.48 0.24 0.28 0.36 0.4 0.08 0.28 0.12 0.32 0.28 0.28 0.36 0.24 0.28 0.24 0.12 0.2 0.4 0.2 0.24 0.08 0.2 0.28 0.24 0.28 0.08 0.36 0.16 0.4 0.32 0.24 0.28 0.32 0.2 0.12 0.2 0.28 0.24 0.32 0.24 0.12 0.28 0.32 0.36 0.28 0.16 0.32 0.24 0.12 0.24 0.28 0.2 0.36 0.36 0.2 0.32 0.2 0.36 0.32 0.2 0.08 0.24 0.28 0.32 0.2 0.32 0.36 0.32 0.24 0.4 0.24 0.16 0.24 0.16 0.16 0.24 0.2 0.16 0.52 0.2 0.36 0.24 0.2 0.32 0.24 0.16 0.2 0.24 0.16 0.36 0.36 0.36 0.2 0.28 0.2 0.32 0.28 0.16 0.24 0.32 0.32 0.2 0.28 0.16 0.32 0.36 0.16 0.16 0.36 0.24 0.16 0.08 0.28 0.28 0.16 0.28 0.12 0.4 0.32 0.48 0.2 0.28 0.44 0.2 0.12 0.12 0.28 0.2 0.16 0.2 0.2 0.28 0.16 0.12 0.04 0.2 0.28 0.2 0.16 0.36 0.12 0.48 0.16 0.2 0.32 0.16 0.16 0.2 0.2 0.2 0.4 0.36 0.28 0.4 0.12 0.2 0.28 0.44 0.4 0.32 0.36 0.24 0.16 0.4 0.32 0.08 0.24 0.32 0.32 0.32 0.24 0.2 0.2 0.2 0.2 0.28 0.2 0.08 0.2 0.32 0.2 0.44 0.24 0.28 0.28 0.16 0.12 0.24 0.36 0.24 0.32 0.24 0.08 0.24 0.24 0.12 0.56 0.36 0.08 0.16 0.24 0.08 0.12 0.24 0.28 0.2 0.32 0.4 0.24 0.32 0.24 0.16 0.16 0.16 0.2 0.4 0.32 0.28 0.36 0.2 0.36 0.44 0.28 0.32 0.48 0.16 0.28 0.28 0.08 "
     ]
    }
   ],
   "source": [
    "nb_cookies = []\n",
    "proportions = []\n",
    "t = 5000 # < {*}\n",
    "for i in range(t) :\n",
    "    bag = []\n",
    "    for j in range(n) :\n",
    "        x = random()\n",
    "        if x < p1 : bag.append('♡')\n",
    "        if x >= p1 and x < p2 : bag.append('☆')\n",
    "        else : bag.append('☐')\n",
    "    if '♡' not in bag : \n",
    "        nb_cookies.append(0)\n",
    "        proportions.append(0)\n",
    "    else : \n",
    "        nb_cookies.append(dict(Counter(bag))['♡'])\n",
    "        proportions.append(dict(Counter(bag))['♡']/n)\n",
    "\n",
    "for x in proportions :\n",
    "    print(x,end=\" \")\n"
   ]
  },
  {
   "cell_type": "code",
   "execution_count": 7,
   "metadata": {},
   "outputs": [],
   "source": [
    "nb_dict = dict(sorted(Counter(nb_cookies).items(), key=lambda item : item[0]))"
   ]
  },
  {
   "cell_type": "code",
   "execution_count": 11,
   "metadata": {},
   "outputs": [],
   "source": [
    "propor_dict = dict(sorted(Counter(proportions).items(),  key=lambda item : item[0]))"
   ]
  },
  {
   "cell_type": "code",
   "execution_count": 12,
   "metadata": {},
   "outputs": [
    {
     "data": {
      "text/plain": [
       "<Axes: xlabel='Proportions'>"
      ]
     },
     "execution_count": 12,
     "metadata": {},
     "output_type": "execute_result"
    },
    {
     "data": {
      "image/png": "[encoded data removed]",
      "text/plain": [
       "<Figure size 640x480 with 1 Axes>"
      ]
     },
     "metadata": {},
     "output_type": "display_data"
    }
   ],
   "source": [
    "df = pd.DataFrame({\"Proportions\" : propor_dict.keys(),\"Number of Bags\" : propor_dict.values()})\n",
    "df.plot(x = \"Proportions\", y = \"Number of Bags\", kind=\"bar\")"
   ]
  },
  {
   "cell_type": "code",
   "execution_count": null,
   "metadata": {},
   "outputs": [
    {
     "name": "stdout",
     "output_type": "stream",
     "text": [
      "Let's see how often ♡-shaped cookies make more than 1/5 of the bag\n",
      "♡-shaped cookies made up more than 1/5 the cookies of 3144 bags out of 5000 bags\n",
      "\t-- 62.88%\n",
      "This is less than \n"
     ]
    }
   ],
   "source": [
    "print(f\"Let's see how often ♡-shaped cookies make more than 1/{f} of the bag\")\n",
    "cpt = 0 \n",
    "for x in proportions :\n",
    "    if x > (1/f) : cpt += 1\n",
    "print(f\"♡-shaped cookies made up more than 1/{f} the cookies of {cpt} bags out of {t} bags\")\n",
    "print(f\"\\t-- {(cpt/t)*100}%\")\n",
    "\n",
    "if (cpt/t)*100 < predicted : print(f\"This is less than \")"
   ]
  },
  {
   "cell_type": "markdown",
   "metadata": {},
   "source": [
    "Expectation : $np$"
   ]
  },
  {
   "cell_type": "code",
   "execution_count": null,
   "metadata": {},
   "outputs": [
    {
     "name": "stdout",
     "output_type": "stream",
     "text": [
      "n = 25 and p = 0.25\n",
      "25 * 0.25 = 6.25, which is 25.0% of 25\n",
      "\n",
      "Let's see what the average proportion of ♡-shaped cookies is.\n",
      "\t -- 25.096%\n"
     ]
    }
   ],
   "source": [
    "print(f\"n = {n} and p = {p1}\")\n",
    "print(f\"{n} * {p1} = {n*p1}, which is {((n*p1)/n)*100}% of {n}\\n\")\n",
    "\n",
    "print(f\"Let's see what the average proportion of ♡-shaped cookies is.\")\n",
    "print(f\"\\t -- {(sum(proportions)/t)*100}%\")"
   ]
  },
  {
   "cell_type": "markdown",
   "metadata": {},
   "source": [
    "Variance : $np(1-p)$"
   ]
  },
  {
   "cell_type": "code",
   "execution_count": 37,
   "metadata": {},
   "outputs": [
    {
     "name": "stdout",
     "output_type": "stream",
     "text": [
      "25 * 0.25 * 0.75 = 4.6875\n",
      "The average is 0.021\n"
     ]
    },
    {
     "data": {
      "text/plain": [
       "[0.021,\n",
       " 0.979,\n",
       " 1.979,\n",
       " 2.979,\n",
       " 3.979,\n",
       " 4.979,\n",
       " 5.979,\n",
       " 6.979,\n",
       " 7.979,\n",
       " 8.979,\n",
       " 9.979,\n",
       " 10.979,\n",
       " 11.979,\n",
       " 12.979,\n",
       " 13.979]"
      ]
     },
     "execution_count": 37,
     "metadata": {},
     "output_type": "execute_result"
    }
   ],
   "source": [
    "var = n*p1*(1-p1)\n",
    "print(f\"{n} * {p1} * {1-p1} = {var}\")\n",
    "\n",
    "m = sum(nb_dict.keys())/t\n",
    "print(f\"The average is {m}\")\n",
    "\n",
    "distances = [abs(x-m) for x in nb_dict.keys()]\n",
    "distances"
   ]
  },
  {
   "cell_type": "code",
   "execution_count": 13,
   "metadata": {},
   "outputs": [
    {
     "data": {
      "text/plain": [
       "<Axes: xlabel='Number of Cookies'>"
      ]
     },
     "execution_count": 13,
     "metadata": {},
     "output_type": "execute_result"
    },
    {
     "data": {
      "image/png": "[encoded data removed]",
      "text/plain": [
       "<Figure size 640x480 with 1 Axes>"
      ]
     },
     "metadata": {},
     "output_type": "display_data"
    }
   ],
   "source": [
    "df = pd.DataFrame({\"Number of Cookies\" : nb_dict.keys(),\"Number of Bags\" : nb_dict.values()})\n",
    "df.plot(x = \"Number of Cookies\", y = \"Number of Bags\", kind=\"bar\")"
   ]
  },
  {
   "cell_type": "code",
   "execution_count": null,
   "metadata": {},
   "outputs": [],
   "source": []
  }
 ],
 "metadata": {
  "kernelspec": {
   "display_name": ".venv",
   "language": "python",
   "name": "python3"
  },
  "language_info": {
   "codemirror_mode": {
    "name": "ipython",
    "version": 3
   },
   "file_extension": ".py",
   "mimetype": "text/x-python",
   "name": "python",
   "nbconvert_exporter": "python",
   "pygments_lexer": "ipython3",
   "version": "3.12.4"
  },
  "orig_nbformat": 4
 },
 "nbformat": 4,
 "nbformat_minor": 2
}
