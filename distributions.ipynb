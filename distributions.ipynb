{
 "cells": [
  {
   "cell_type": "code",
   "execution_count": 1,
   "metadata": {},
   "outputs": [],
   "source": [
    "from random import choice\n",
    "from math import floor\n",
    "from collections import Counter\n",
    "import matplotlib.pyplot as plt"
   ]
  },
  {
   "cell_type": "markdown",
   "metadata": {},
   "source": [
    "# Random Variables & Probability Distributions"
   ]
  },
  {
   "cell_type": "markdown",
   "metadata": {},
   "source": [
    "Say $X$ is our random variable. What does $P(X)$ mean then?\n",
    "\n",
    "We're actually more interested in $P(X = value)$ : the `probability that our random variable is a certain value`.\n",
    "\n",
    "The value of $X$ is not to be calculated. We already know the values or the range of values $X$ can be. We want to know the probability that $X$ is a certain value or another. "
   ]
  },
  {
   "cell_type": "markdown",
   "metadata": {},
   "source": [
    "## Expectation &  Variance"
   ]
  },
  {
   "cell_type": "markdown",
   "metadata": {},
   "source": [
    "`expectation` : mean of the random variable/weighted sum of the outcomes\n",
    "\n",
    "$ E(X) = \\mu = \\sum_x {xP(X=x)} $\n",
    "\n",
    "`variance` : measure of how much the datapoints are dispersed from the mean in terms of `standard deviation`s\n",
    "\n",
    "$Var(X) = \\sum_x{[P(X=x)(x-\\mu)^2]}$\n",
    "\n",
    "$\\sigma = \\sqrt{Var(X)}$"
   ]
  },
  {
   "cell_type": "markdown",
   "metadata": {},
   "source": [
    "Before we delve further into the expectation and variances of random variables, let's learn about some common probability distributions."
   ]
  },
  {
   "cell_type": "markdown",
   "metadata": {},
   "source": [
    "## Probability Distributions"
   ]
  },
  {
   "cell_type": "markdown",
   "metadata": {},
   "source": [
    "### Bernoulli"
   ]
  },
  {
   "cell_type": "markdown",
   "metadata": {},
   "source": [
    "a `single trial` with 2 outcomes (success/failure) and 1 parameter\n",
    " \n",
    "$P(X = 1) = p$\n",
    "\n",
    "$P(X = 0) = 1 - p$"
   ]
  },
  {
   "cell_type": "markdown",
   "metadata": {},
   "source": [
    "## Binomial"
   ]
  },
  {
   "cell_type": "markdown",
   "metadata": {},
   "source": [
    "based on a `series of independent Bernoulli trials` and counts the number of successes ($k$) in $n$ trials\n",
    "\n",
    "The probability of success $p$ and the number of independent trials $n$ must be constant.\n",
    "\n",
    "$P(X = k) = (n,k) = p^k(1-p)^{n-k}$\n"
   ]
  },
  {
   "cell_type": "markdown",
   "metadata": {},
   "source": [
    "$E(X_{binomial}) = np$\n",
    "\n",
    "$Var(X_{binomial}) = np(1-p)$"
   ]
  },
  {
   "cell_type": "code",
   "execution_count": 2,
   "metadata": {},
   "outputs": [],
   "source": [
    "def binomial(p,n,k) :\n",
    "    return (p**k)*((1-p)**(n-k))"
   ]
  },
  {
   "cell_type": "markdown",
   "metadata": {},
   "source": [
    "_example : picking cookies out of a bag_"
   ]
  },
  {
   "cell_type": "code",
   "execution_count": 21,
   "metadata": {},
   "outputs": [
    {
     "name": "stdout",
     "output_type": "stream",
     "text": [
      "☐ : 12\n",
      "♡ : 7\n",
      "☆ : 6\n",
      "The probability of getting a ♡-shaped cookie is 28.000000000000004%\n"
     ]
    }
   ],
   "source": [
    "n = 25\n",
    "k = floor(0.1 * n)\n",
    "cookie_types = ['♡','☆','☐']\n",
    "bag = [choice(cookie_types) for i in range(n)]\n",
    "for (x, freq) in dict(Counter(bag)).items() :\n",
    "    print(f\"{x} : {freq}\")\n",
    "\n",
    "p = Counter(bag)[\"♡\"]/n\n",
    "print(f\"The probability of getting a ♡-shaped cookie is {p*100}%\")"
   ]
  },
  {
   "cell_type": "code",
   "execution_count": null,
   "metadata": {},
   "outputs": [],
   "source": []
  }
 ],
 "metadata": {
  "kernelspec": {
   "display_name": ".venv",
   "language": "python",
   "name": "python3"
  },
  "language_info": {
   "codemirror_mode": {
    "name": "ipython",
    "version": 3
   },
   "file_extension": ".py",
   "mimetype": "text/x-python",
   "name": "python",
   "nbconvert_exporter": "python",
   "pygments_lexer": "ipython3",
   "version": "3.12.4"
  },
  "orig_nbformat": 4
 },
 "nbformat": 4,
 "nbformat_minor": 2
}
